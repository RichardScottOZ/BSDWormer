{
 "metadata": {
  "name": "",
  "signature": "sha256:cde3e948d251fa10060809523645ca391db6d2755c432a32d23ebc70f3bc6826"
 },
 "nbformat": 3,
 "nbformat_minor": 0,
 "worksheets": [
  {
   "cells": [
    {
     "cell_type": "code",
     "collapsed": false,
     "input": [
      "%%javascript\n",
      "// change the mode of all current and future CodeMirror instances\n",
      "// This is a BLACK MAGIC convenience function for Frank to edit everything is something approximating emacs.\n",
      "// See https://nbviewer.jupyter.org/github/ivanov/scipy2014/blob/master/v%20in%20IPython.ipynb#ipython-vimception\n",
      "// for the original Vim version...\n",
      "function to(mode) {\n",
      "    var mode = mode || 'emacs'\n",
      "    // first let's apply emacs mode to all current cells\n",
      "    function to_mode(c) { return c.code_mirror.setOption('keyMap', mode);};\n",
      "    IPython.notebook.get_cells().map(to_mode);\n",
      "    // apply the mode to future cells created\n",
      "    IPython.Cell.options_default.cm_config.keyMap = mode;\n",
      "}\n",
      "\n",
      "require([\"/static/components/codemirror/keymap/emacs.js\"],\n",
      "     function (emacs) { \n",
      "         to('emacs'); \n",
      "         console.log('emacs.js loaded'); \n",
      "     });"
     ],
     "language": "python",
     "metadata": {},
     "outputs": [
      {
       "javascript": [
        "// change the mode of all current and future CodeMirror instances\n",
        "// This is a BLACK MAGIC convenience function for Frank to edit everything is something approximating emacs.\n",
        "// See https://nbviewer.jupyter.org/github/ivanov/scipy2014/blob/master/v%20in%20IPython.ipynb#ipython-vimception\n",
        "// for the original Vim version...\n",
        "function to(mode) {\n",
        "    var mode = mode || 'emacs'\n",
        "    // first let's apply emacs mode to all current cells\n",
        "    function to_mode(c) { return c.code_mirror.setOption('keyMap', mode);};\n",
        "    IPython.notebook.get_cells().map(to_mode);\n",
        "    // apply the mode to future cells created\n",
        "    IPython.Cell.options_default.cm_config.keyMap = mode;\n",
        "}\n",
        "\n",
        "require([\"/static/components/codemirror/keymap/emacs.js\"],\n",
        "     function (emacs) { \n",
        "         to('emacs'); \n",
        "         console.log('emacs.js loaded'); \n",
        "     });"
       ],
       "metadata": {},
       "output_type": "display_data",
       "text": [
        "<IPython.core.display.Javascript at 0x111df3940>"
       ]
      }
     ],
     "prompt_number": 1
    },
    {
     "cell_type": "code",
     "collapsed": false,
     "input": [
      "%matplotlib inline\n",
      "import wormer as w\n",
      "import numpy as np\n",
      "from geometry import MapToPixel, PixelToMap, CellSize, ExtentToGCPs\n",
      "from matplotlib import pyplot as plt"
     ],
     "language": "python",
     "metadata": {},
     "outputs": [],
     "prompt_number": 2
    },
    {
     "cell_type": "code",
     "collapsed": false,
     "input": [
      "foo = w.Wormer()\n",
      "foo.importGdalRaster('../test_data/LOntario/LOntario_BGAUTM.tif')\n",
      "print(foo.base_grid.shape)\n",
      "print(foo.geomat)"
     ],
     "language": "python",
     "metadata": {},
     "outputs": [
      {
       "output_type": "stream",
       "stream": "stdout",
       "text": [
        "(177, 317)\n",
        "(90681.31, 1066.8399999999965, 0.0, 4758102.0, 0.0, 1066.8399999999965)\n"
       ]
      }
     ],
     "prompt_number": 3
    },
    {
     "cell_type": "code",
     "collapsed": false,
     "input": [
      "foo.ds.GetProjection()"
     ],
     "language": "python",
     "metadata": {},
     "outputs": [
      {
       "metadata": {},
       "output_type": "pyout",
       "prompt_number": 4,
       "text": [
        "'PROJCS[\"WGS 84 / UTM zone 18N\",GEOGCS[\"WGS 84\",DATUM[\"WGS_1984\",SPHEROID[\"WGS 84\",6378137,298.257223563,AUTHORITY[\"EPSG\",\"7030\"]],AUTHORITY[\"EPSG\",\"6326\"]],PRIMEM[\"Greenwich\",0],UNIT[\"degree\",0.0174532925199433],AUTHORITY[\"EPSG\",\"4326\"]],PROJECTION[\"Transverse_Mercator\"],PARAMETER[\"latitude_of_origin\",0],PARAMETER[\"central_meridian\",-75],PARAMETER[\"scale_factor\",0.9996],PARAMETER[\"false_easting\",500000],PARAMETER[\"false_northing\",0],UNIT[\"metre\",1,AUTHORITY[\"EPSG\",\"9001\"]],AUTHORITY[\"EPSG\",\"32618\"]]'"
       ]
      }
     ],
     "prompt_number": 4
    },
    {
     "cell_type": "code",
     "collapsed": false,
     "input": [
      "gm = foo.geomat\n",
      "ypix_max,xpix_max = foo.base_grid.shape\n",
      "ulx,uly = PixelToMap(0,0,gm)\n",
      "print(ulx,uly)\n",
      "urx,ury = PixelToMap(xpix_max,0,gm)\n",
      "print(urx,ury)\n",
      "lrx,lry = PixelToMap(xpix_max,ypix_max,gm)\n",
      "print(lrx,lry)\n",
      "llx,lly = PixelToMap(0,ypix_max,gm)\n",
      "print(llx,lly)\n",
      "extent = [[ulx,uly],[urx,ury],[lrx,lry],[llx,lly]]\n",
      "gcps = ExtentToGCPs(extent,cols=xpix_max,rows=ypix_max)\n",
      "print(gcps)\n",
      "print(gcps[0].GCPLine)\n",
      "print(gcps[1])\n",
      "print(gcps[2])\n",
      "print(gcps[3])"
     ],
     "language": "python",
     "metadata": {},
     "outputs": [
      {
       "output_type": "stream",
       "stream": "stdout",
       "text": [
        "90681.31 4758102.0\n",
        "428869.58999999886 4758102.0\n",
        "428869.58999999886 4946932.68\n",
        "90681.31 4946932.68\n",
        "[<osgeo.gdal.GCP; proxy of <Swig Object of type 'GDAL_GCP *' at 0x1162899f0> >, <osgeo.gdal.GCP; proxy of <Swig Object of type 'GDAL_GCP *' at 0x116289930> >, <osgeo.gdal.GCP; proxy of <Swig Object of type 'GDAL_GCP *' at 0x1162898d0> >, <osgeo.gdal.GCP; proxy of <Swig Object of type 'GDAL_GCP *' at 0x116289a50> >]\n",
        "177.0\n",
        "1 (0.00P,0.00L) -> (428869.5900000E,4758102.0000000N,0.00)  \n",
        "2 (317.00P,0.00L) -> (428869.5900000E,4946932.6800000N,0.00)  \n",
        "3 (317.00P,177.00L) -> (90681.3100000E,4946932.6800000N,0.00)  \n"
       ]
      }
     ],
     "prompt_number": 17
    },
    {
     "cell_type": "code",
     "collapsed": false,
     "input": [
      "print(PixelToMap(0,0,foo.geomat))\n",
      "ypix_max,xpix_max = foo.base_grid.shape\n",
      "print(PixelToMap(xpix_max,ypix_max,foo.geomat))\n",
      "print(CellSize(foo.geomat))"
     ],
     "language": "python",
     "metadata": {},
     "outputs": [
      {
       "output_type": "stream",
       "stream": "stdout",
       "text": [
        "(90681.31, 4758102.0)\n",
        "(428869.58999999886, 4946932.68)\n",
        "(1066.84, 1066.84)\n"
       ]
      }
     ],
     "prompt_number": 5
    },
    {
     "cell_type": "code",
     "collapsed": false,
     "input": [
      "from FftUtils import mk_apod_mask, embed_data\n",
      "ysz,xsz = foo.base_grid.shape\n",
      "rolloff_sz = 100\n",
      "bar = mk_apod_mask(masksz=(512,1024),\n",
      "                   apodsz=(ysz+rolloff_sz,xsz+rolloff_sz),\n",
      "                   wsize=rolloff_sz,\n",
      "                   apod_f = 'hann')\n",
      "baz,slice_y,slice_x = embed_data(foo.base_grid,big_shape=(512,1024),pad_size=(rolloff_sz//2))"
     ],
     "language": "python",
     "metadata": {},
     "outputs": [],
     "prompt_number": 6
    },
    {
     "cell_type": "code",
     "collapsed": false,
     "input": [
      "fig = plt.subplot(311)\n",
      "plt.imshow(bar)\n",
      "fig = plt.subplot(312)\n",
      "plt.imshow(baz)\n",
      "fig = plt.subplot(313)\n",
      "plt.imshow(baz*bar)"
     ],
     "language": "python",
     "metadata": {},
     "outputs": [
      {
       "metadata": {},
       "output_type": "pyout",
       "prompt_number": 13,
       "text": [
        "<matplotlib.image.AxesImage at 0x111048cf8>"
       ]
      },
      {
       "metadata": {},
       "output_type": "display_data",
       "png": "[encoded data removed]",
       "text": [
        "<matplotlib.figure.Figure at 0x10b24f908>"
       ]
      }
     ],
     "prompt_number": 13
    },
    {
     "cell_type": "code",
     "collapsed": false,
     "input": [
      "print(slice_y,slice_x)"
     ],
     "language": "python",
     "metadata": {},
     "outputs": [
      {
       "output_type": "stream",
       "stream": "stdout",
       "text": [
        "slice(167, 344, 1) slice(353, 670, 1)\n"
       ]
      }
     ],
     "prompt_number": 8
    },
    {
     "cell_type": "code",
     "collapsed": false,
     "input": [
      "print(slice_y.stop-slice_y.start,slice_x.stop-slice_x.start,baz.shape)\n"
     ],
     "language": "python",
     "metadata": {},
     "outputs": [
      {
       "output_type": "stream",
       "stream": "stdout",
       "text": [
        "177 317 (512, 1024)\n"
       ]
      }
     ],
     "prompt_number": 9
    },
    {
     "cell_type": "code",
     "collapsed": false,
     "input": [
      "# These are more-or-less unit tests for the apodization code\n",
      "assert(np.allclose(baz[slice_y,slice_x],foo.base_grid-np.mean(foo.base_grid)))\n",
      "assert(np.allclose((baz*bar)[slice_y,slice_x],foo.base_grid-np.mean(foo.base_grid)))\n",
      "\n",
      "# Deal with the top left corner, and surrounding pixels\n",
      "top_left = (slice_y.start,slice_x.start)\n",
      "print(top_left)\n",
      "assert(bar[top_left]==1.0)\n",
      "nw_top_left = (slice_y.start-1,slice_x.start-1)\n",
      "print(nw_top_left)\n",
      "assert(bar[nw_top_left] < 1.0)\n",
      "n_top_left = (slice_y.start-1,slice_x.start)\n",
      "print(n_top_left)\n",
      "assert(bar[n_top_left] < 1.0)\n",
      "w_top_left = (slice_y.start,slice_x.start-1)\n",
      "print(w_top_left)\n",
      "assert(bar[w_top_left] < 1.0)\n",
      "\n",
      "# Deal with the top right corner, and surrounding pixels\n",
      "top_right = (slice_y.start,slice_x.stop)\n",
      "print(top_right)\n",
      "assert(bar[top_right]==1.0)\n",
      "e_top_right = (slice_y.start,slice_x.stop+1)\n",
      "print(e_top_right)\n",
      "assert(bar[e_top_right]<1.0)\n",
      "ne_top_right = (slice_y.start-1,slice_x.stop+1)\n",
      "print(ne_top_right)\n",
      "assert(bar[ne_top_right]<1.0)\n",
      "n_top_right = (slice_y.start-1,slice_x.stop)\n",
      "print(n_top_right)\n",
      "assert(bar[n_top_right]<1.0)\n",
      "\n",
      "# Deal with the bottom left corner, and surrounding pixels\n",
      "bot_left = (slice_y.stop,slice_x.start)\n",
      "print(bot_left)\n",
      "assert(bar[bot_left]==1.0)\n",
      "sw_bot_left = (slice_y.stop+1,slice_x.start-1)\n",
      "print(sw_bot_left)\n",
      "assert(bar[sw_bot_left] < 1.0)\n",
      "s_bot_left = (slice_y.stop+1,slice_x.start)\n",
      "print(s_bot_left)\n",
      "assert(bar[s_bot_left] < 1.0)\n",
      "w_bot_left = (slice_y.stop,slice_x.start-1)\n",
      "print(w_bot_left)\n",
      "assert(bar[w_bot_left] < 1.0)\n",
      "\n",
      "# Deal with the bottom right corner, and surrounding pixels\n",
      "bot_right = (slice_y.stop,slice_x.stop)\n",
      "print(bot_right)\n",
      "assert(bar[bot_right]==1.0)\n",
      "e_bot_right = (slice_y.stop,slice_x.stop+1)\n",
      "print(e_bot_right)\n",
      "assert(bar[e_bot_right]<1.0)\n",
      "se_bot_right = (slice_y.stop+1,slice_x.stop+1)\n",
      "print(se_bot_right)\n",
      "assert(bar[se_bot_right]<1.0)\n",
      "s_bot_right = (slice_y.stop+1,slice_x.stop)\n",
      "print(s_bot_right)\n",
      "assert(bar[s_bot_right]<1.0)"
     ],
     "language": "python",
     "metadata": {},
     "outputs": [
      {
       "output_type": "stream",
       "stream": "stdout",
       "text": [
        "(167, 353)\n",
        "(166, 352)\n",
        "(166, 353)\n",
        "(167, 352)\n",
        "(167, 670)\n",
        "(167, 671)\n",
        "(166, 671)\n",
        "(166, 670)\n",
        "(344, 353)\n",
        "(345, 352)\n",
        "(345, 353)\n",
        "(344, 352)\n",
        "(344, 670)\n",
        "(344, 671)\n",
        "(345, 671)\n",
        "(345, 670)\n"
       ]
      }
     ],
     "prompt_number": 11
    },
    {
     "cell_type": "code",
     "collapsed": false,
     "input": [],
     "language": "python",
     "metadata": {},
     "outputs": []
    }
   ],
   "metadata": {}
  }
 ]
}