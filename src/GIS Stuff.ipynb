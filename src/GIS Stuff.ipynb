{
 "metadata": {
  "name": "",
  "signature": "sha256:37582ed94dd280ed67402ba18789208b649dfc5329726a4b603bc755c615383d"
 },
 "nbformat": 3,
 "nbformat_minor": 0,
 "worksheets": [
  {
   "cells": [
    {
     "cell_type": "code",
     "collapsed": false,
     "input": [
      "%%javascript\n",
      "// change the mode of all current and future CodeMirror instances\n",
      "// This is a BLACK MAGIC convenience function for Frank to edit everything is something approximating emacs.\n",
      "// See https://nbviewer.jupyter.org/github/ivanov/scipy2014/blob/master/v%20in%20IPython.ipynb#ipython-vimception\n",
      "// for the original Vim version...\n",
      "function to(mode) {\n",
      "    var mode = mode || 'emacs'\n",
      "    // first let's apply emacs mode to all current cells\n",
      "    function to_mode(c) { return c.code_mirror.setOption('keyMap', mode);};\n",
      "    IPython.notebook.get_cells().map(to_mode);\n",
      "    // apply the mode to future cells created\n",
      "    IPython.Cell.options_default.cm_config.keyMap = mode;\n",
      "}\n",
      "\n",
      "require([\"/static/components/codemirror/keymap/emacs.js\"],\n",
      "     function (emacs) { \n",
      "         to('emacs'); \n",
      "         console.log('emacs.js loaded'); \n",
      "     });"
     ],
     "language": "python",
     "metadata": {},
     "outputs": [
      {
       "javascript": [
        "// change the mode of all current and future CodeMirror instances\n",
        "// This is a BLACK MAGIC convenience function for Frank to edit everything is something approximating emacs.\n",
        "// See https://nbviewer.jupyter.org/github/ivanov/scipy2014/blob/master/v%20in%20IPython.ipynb#ipython-vimception\n",
        "// for the original Vim version...\n",
        "function to(mode) {\n",
        "    var mode = mode || 'emacs'\n",
        "    // first let's apply emacs mode to all current cells\n",
        "    function to_mode(c) { return c.code_mirror.setOption('keyMap', mode);};\n",
        "    IPython.notebook.get_cells().map(to_mode);\n",
        "    // apply the mode to future cells created\n",
        "    IPython.Cell.options_default.cm_config.keyMap = mode;\n",
        "}\n",
        "\n",
        "require([\"/static/components/codemirror/keymap/emacs.js\"],\n",
        "     function (emacs) { \n",
        "         to('emacs'); \n",
        "         console.log('emacs.js loaded'); \n",
        "     });"
       ],
       "metadata": {},
       "output_type": "display_data",
       "text": [
        "<IPython.core.display.Javascript at 0x101df6cf8>"
       ]
      }
     ],
     "prompt_number": 1
    },
    {
     "cell_type": "code",
     "collapsed": false,
     "input": [
      "%matplotlib inline\n",
      "import wormer as w\n",
      "import numpy as np\n",
      "from geometry import MapToPixel, PixelToMap, CellSize, ExtentToGCPs, GeoTransformToGCPs\n",
      "from matplotlib import pyplot as plt\n",
      "from osgeo.gdal import GCP, GCPsToGeoTransform\n",
      "from Utility import writeGDALRasterFromNumpyArray"
     ],
     "language": "python",
     "metadata": {},
     "outputs": [],
     "prompt_number": 2
    },
    {
     "cell_type": "code",
     "collapsed": false,
     "input": [
      "foo = w.Wormer()\n",
      "foo.importGdalRaster('../test_data/LOntario/LOntario_NEWBGAUTM.tiff')\n",
      "print(foo.base_grid.shape)\n",
      "print(foo.geomat)\n"
     ],
     "language": "python",
     "metadata": {},
     "outputs": [
      {
       "output_type": "stream",
       "stream": "stdout",
       "text": [
        "(177, 317)\n",
        "(90681.31, 1066.8400000000001, 0.0, 4946932.68, 0.0, -1066.8399999999983)\n"
       ]
      }
     ],
     "prompt_number": 3
    },
    {
     "cell_type": "code",
     "collapsed": false,
     "input": [
      "foo.ds.GetProjection()"
     ],
     "language": "python",
     "metadata": {},
     "outputs": [
      {
       "metadata": {},
       "output_type": "pyout",
       "prompt_number": 4,
       "text": [
        "'PROJCS[\"WGS 84 / UTM zone 18N\",GEOGCS[\"WGS 84\",DATUM[\"WGS_1984\",SPHEROID[\"WGS 84\",6378137,298.257223563,AUTHORITY[\"EPSG\",\"7030\"]],AUTHORITY[\"EPSG\",\"6326\"]],PRIMEM[\"Greenwich\",0],UNIT[\"degree\",0.0174532925199433],AUTHORITY[\"EPSG\",\"4326\"]],PROJECTION[\"Transverse_Mercator\"],PARAMETER[\"latitude_of_origin\",0],PARAMETER[\"central_meridian\",-75],PARAMETER[\"scale_factor\",0.9996],PARAMETER[\"false_easting\",500000],PARAMETER[\"false_northing\",0],UNIT[\"metre\",1,AUTHORITY[\"EPSG\",\"9001\"]],AUTHORITY[\"EPSG\",\"32618\"]]'"
       ]
      }
     ],
     "prompt_number": 4
    },
    {
     "cell_type": "code",
     "collapsed": false,
     "input": [
      "ypix_max,xpix_max = foo.base_grid.shape\n",
      "gm = foo.geomat\n",
      "gcps = GeoTransformToGCPs(gm,xpix_max,ypix_max)\n",
      "\n",
      "# WARNING! Remember that the bloody image has line=0 at the NORTH edge!\n",
      "# God, I hate GIS Rasters...\n",
      "\n",
      "# GCPs are SWIG wrapped C++ objects with the following attributes\n",
      "# GCPX, GCPY, GCPZ, GCPPixel, GCPLine, Info, and Id\n",
      "# All of those attributes appear to be read/write...\n",
      "#print(gcps)\n",
      "\n",
      "print(gcps[0])\n",
      "print(gcps[1])\n",
      "print(gcps[2])\n",
      "print(gcps[3])"
     ],
     "language": "python",
     "metadata": {},
     "outputs": [
      {
       "output_type": "stream",
       "stream": "stdout",
       "text": [
        "0 (0.00P,0.00L) -> (90681.3100000E,4946932.6800000N,0.00)  \n",
        "1 (0.00P,177.00L) -> (90681.3100000E,4758102.0000000N,0.00)  \n",
        "2 (317.00P,177.00L) -> (428869.5900000E,4758102.0000000N,0.00)  \n",
        "3 (317.00P,0.00L) -> (428869.5900000E,4946932.6800000N,0.00)  \n"
       ]
      }
     ],
     "prompt_number": 5
    },
    {
     "cell_type": "code",
     "collapsed": false,
     "input": [
      "print(PixelToMap(0,0,foo.geomat))\n",
      "ypix_max,xpix_max = foo.base_grid.shape\n",
      "print(PixelToMap(xpix_max,ypix_max,foo.geomat))\n",
      "print(CellSize(foo.geomat))"
     ],
     "language": "python",
     "metadata": {},
     "outputs": [
      {
       "output_type": "stream",
       "stream": "stdout",
       "text": [
        "(90681.31, 4946932.68)\n",
        "(428869.59, 4758102.0)\n",
        "(1066.84, 1066.84)\n"
       ]
      }
     ],
     "prompt_number": 6
    },
    {
     "cell_type": "code",
     "collapsed": false,
     "input": [
      "#from FftUtils import mk_apod_mask, embed_data\n",
      "#ysz,xsz = foo.base_grid.shape\n",
      "#rolloff_sz = 100\n",
      "#bar = mk_apod_mask(masksz=(512,1024),\n",
      "#                   apodsz=(ysz+rolloff_sz,xsz+rolloff_sz),\n",
      "#                   wsize=rolloff_sz,\n",
      "#                   apod_f = 'hann')\n",
      "#baz,slice_y,slice_x = embed_data(foo.base_grid,big_shape=(512,1024),pad_size=(rolloff_sz//2))\n",
      "print(foo.base_grid.shape)\n",
      "foo.buildPaddedRaster(padded_shape=(512,1024))\n",
      "plt.imshow(foo.padded_grid)"
     ],
     "language": "python",
     "metadata": {},
     "outputs": [
      {
       "output_type": "stream",
       "stream": "stdout",
       "text": [
        "(177, 317)\n"
       ]
      },
      {
       "metadata": {},
       "output_type": "pyout",
       "prompt_number": 7,
       "text": [
        "<matplotlib.image.AxesImage at 0x108899518>"
       ]
      },
      {
       "metadata": {},
       "output_type": "display_data",
       "png": "[encoded data removed]",
       "text": [
        "<matplotlib.figure.Figure at 0x103048a20>"
       ]
      }
     ],
     "prompt_number": 7
    },
    {
     "cell_type": "code",
     "collapsed": false,
     "input": [
      "fig = plt.subplot(311)\n",
      "plt.imshow(bar)\n",
      "fig = plt.subplot(312)\n",
      "plt.imshow(baz)\n",
      "fig = plt.subplot(313)\n",
      "plt.imshow(baz*bar)\n"
     ],
     "language": "python",
     "metadata": {},
     "outputs": [
      {
       "ename": "NameError",
       "evalue": "name 'bar' is not defined",
       "output_type": "pyerr",
       "traceback": [
        "\u001b[0;31m---------------------------------------------------------------------------\u001b[0m\n\u001b[0;31mNameError\u001b[0m                                 Traceback (most recent call last)",
        "\u001b[0;32m<ipython-input-8-d8c37b98afa7>\u001b[0m in \u001b[0;36m<module>\u001b[0;34m()\u001b[0m\n\u001b[1;32m      1\u001b[0m \u001b[0mfig\u001b[0m \u001b[0;34m=\u001b[0m \u001b[0mplt\u001b[0m\u001b[0;34m.\u001b[0m\u001b[0msubplot\u001b[0m\u001b[0;34m(\u001b[0m\u001b[0;36m311\u001b[0m\u001b[0;34m)\u001b[0m\u001b[0;34m\u001b[0m\u001b[0m\n\u001b[0;32m----> 2\u001b[0;31m \u001b[0mplt\u001b[0m\u001b[0;34m.\u001b[0m\u001b[0mimshow\u001b[0m\u001b[0;34m(\u001b[0m\u001b[0mbar\u001b[0m\u001b[0;34m)\u001b[0m\u001b[0;34m\u001b[0m\u001b[0m\n\u001b[0m\u001b[1;32m      3\u001b[0m \u001b[0mfig\u001b[0m \u001b[0;34m=\u001b[0m \u001b[0mplt\u001b[0m\u001b[0;34m.\u001b[0m\u001b[0msubplot\u001b[0m\u001b[0;34m(\u001b[0m\u001b[0;36m312\u001b[0m\u001b[0;34m)\u001b[0m\u001b[0;34m\u001b[0m\u001b[0m\n\u001b[1;32m      4\u001b[0m \u001b[0mplt\u001b[0m\u001b[0;34m.\u001b[0m\u001b[0mimshow\u001b[0m\u001b[0;34m(\u001b[0m\u001b[0mbaz\u001b[0m\u001b[0;34m)\u001b[0m\u001b[0;34m\u001b[0m\u001b[0m\n\u001b[1;32m      5\u001b[0m \u001b[0mfig\u001b[0m \u001b[0;34m=\u001b[0m \u001b[0mplt\u001b[0m\u001b[0;34m.\u001b[0m\u001b[0msubplot\u001b[0m\u001b[0;34m(\u001b[0m\u001b[0;36m313\u001b[0m\u001b[0;34m)\u001b[0m\u001b[0;34m\u001b[0m\u001b[0m\n",
        "\u001b[0;31mNameError\u001b[0m: name 'bar' is not defined"
       ]
      },
      {
       "metadata": {},
       "output_type": "display_data",
       "png": "[encoded data removed]",
       "text": [
        "<matplotlib.figure.Figure at 0x1074c0588>"
       ]
      }
     ],
     "prompt_number": 8
    },
    {
     "cell_type": "code",
     "collapsed": false,
     "input": [
      "print(slice_y,slice_x)"
     ],
     "language": "python",
     "metadata": {},
     "outputs": [
      {
       "output_type": "stream",
       "stream": "stdout",
       "text": [
        "slice(167, 344, 1) slice(353, 670, 1)\n"
       ]
      }
     ],
     "prompt_number": 8
    },
    {
     "cell_type": "code",
     "collapsed": false,
     "input": [
      "print(slice_y.stop-slice_y.start,slice_x.stop-slice_x.start,baz.shape)\n"
     ],
     "language": "python",
     "metadata": {},
     "outputs": [
      {
       "output_type": "stream",
       "stream": "stdout",
       "text": [
        "177 317 (512, 1024)\n"
       ]
      }
     ],
     "prompt_number": 9
    },
    {
     "cell_type": "code",
     "collapsed": false,
     "input": [
      "padded_gcps = []\n",
      "for gcp in gcps:\n",
      "    print(gcp.GCPPixel,gcp.GCPLine,gcp.GCPX, gcp.GCPY)\n",
      "\n",
      "    if gcp.GCPPixel == 0.0:\n",
      "        x_pad = slice_x.start\n",
      "    else:\n",
      "        x_pad = slice_x.stop\n",
      "\n",
      "    if gcp.GCPLine == 0.0:\n",
      "        y_pad = slice_y.start\n",
      "    else:\n",
      "        y_pad = slice_y.stop\n",
      "\n",
      "    padded_gcp = GCP(gcp.GCPX,gcp.GCPY,gcp.GCPZ,x_pad,y_pad)\n",
      "    padded_gcps += [padded_gcp]\n",
      "#print(padded_gcps)\n",
      "padded_geotransform = GCPsToGeoTransform(padded_gcps)\n",
      "print(padded_geotransform)\n",
      "for gcp in gcps:\n",
      "    easting,northing = PixelToMap(gcp.GCPPixel,gcp.GCPLine,gm)\n",
      "    pad_x,pad_y = MapToPixel(easting,northing,padded_geotransform)\n",
      "    print(round(pad_x),round(pad_y))\n",
      "\n",
      "writeGDALRasterFromNumpyArray('../test_data/LOntario/LOntario_NEWBGAUTM_padded.tiff',baz*bar,padded_geotransform,foo.ds.GetProjection())\n"
     ],
     "language": "python",
     "metadata": {},
     "outputs": [
      {
       "output_type": "stream",
       "stream": "stdout",
       "text": [
        "0.0 0.0 90681.31 4946932.68\n"
       ]
      },
      {
       "ename": "NameError",
       "evalue": "name 'slice_x' is not defined",
       "output_type": "pyerr",
       "traceback": [
        "\u001b[0;31m---------------------------------------------------------------------------\u001b[0m\n\u001b[0;31mNameError\u001b[0m                                 Traceback (most recent call last)",
        "\u001b[0;32m<ipython-input-9-e61408298282>\u001b[0m in \u001b[0;36m<module>\u001b[0;34m()\u001b[0m\n\u001b[1;32m      4\u001b[0m \u001b[0;34m\u001b[0m\u001b[0m\n\u001b[1;32m      5\u001b[0m     \u001b[0;32mif\u001b[0m \u001b[0mgcp\u001b[0m\u001b[0;34m.\u001b[0m\u001b[0mGCPPixel\u001b[0m \u001b[0;34m==\u001b[0m \u001b[0;36m0.0\u001b[0m\u001b[0;34m:\u001b[0m\u001b[0;34m\u001b[0m\u001b[0m\n\u001b[0;32m----> 6\u001b[0;31m         \u001b[0mx_pad\u001b[0m \u001b[0;34m=\u001b[0m \u001b[0mslice_x\u001b[0m\u001b[0;34m.\u001b[0m\u001b[0mstart\u001b[0m\u001b[0;34m\u001b[0m\u001b[0m\n\u001b[0m\u001b[1;32m      7\u001b[0m     \u001b[0;32melse\u001b[0m\u001b[0;34m:\u001b[0m\u001b[0;34m\u001b[0m\u001b[0m\n\u001b[1;32m      8\u001b[0m         \u001b[0mx_pad\u001b[0m \u001b[0;34m=\u001b[0m \u001b[0mslice_x\u001b[0m\u001b[0;34m.\u001b[0m\u001b[0mstop\u001b[0m\u001b[0;34m\u001b[0m\u001b[0m\n",
        "\u001b[0;31mNameError\u001b[0m: name 'slice_x' is not defined"
       ]
      }
     ],
     "prompt_number": 9
    },
    {
     "cell_type": "code",
     "collapsed": false,
     "input": [
      "# These are more-or-less unit tests for the apodization code\n",
      "assert(np.allclose(baz[slice_y,slice_x],foo.base_grid-np.mean(foo.base_grid)))\n",
      "assert(np.allclose((baz*bar)[slice_y,slice_x],foo.base_grid-np.mean(foo.base_grid)))\n",
      "\n",
      "# Deal with the top left corner, and surrounding pixels\n",
      "top_left = (slice_y.start,slice_x.start)\n",
      "print(top_left)\n",
      "assert(bar[top_left]==1.0)\n",
      "nw_top_left = (slice_y.start-1,slice_x.start-1)\n",
      "print(nw_top_left)\n",
      "assert(bar[nw_top_left] < 1.0)\n",
      "n_top_left = (slice_y.start-1,slice_x.start)\n",
      "print(n_top_left)\n",
      "assert(bar[n_top_left] < 1.0)\n",
      "w_top_left = (slice_y.start,slice_x.start-1)\n",
      "print(w_top_left)\n",
      "assert(bar[w_top_left] < 1.0)\n",
      "\n",
      "# Deal with the top right corner, and surrounding pixels\n",
      "top_right = (slice_y.start,slice_x.stop)\n",
      "print(top_right)\n",
      "assert(bar[top_right]==1.0)\n",
      "e_top_right = (slice_y.start,slice_x.stop+1)\n",
      "print(e_top_right)\n",
      "assert(bar[e_top_right]<1.0)\n",
      "ne_top_right = (slice_y.start-1,slice_x.stop+1)\n",
      "print(ne_top_right)\n",
      "assert(bar[ne_top_right]<1.0)\n",
      "n_top_right = (slice_y.start-1,slice_x.stop)\n",
      "print(n_top_right)\n",
      "assert(bar[n_top_right]<1.0)\n",
      "\n",
      "# Deal with the bottom left corner, and surrounding pixels\n",
      "bot_left = (slice_y.stop,slice_x.start)\n",
      "print(bot_left)\n",
      "assert(bar[bot_left]==1.0)\n",
      "sw_bot_left = (slice_y.stop+1,slice_x.start-1)\n",
      "print(sw_bot_left)\n",
      "assert(bar[sw_bot_left] < 1.0)\n",
      "s_bot_left = (slice_y.stop+1,slice_x.start)\n",
      "print(s_bot_left)\n",
      "assert(bar[s_bot_left] < 1.0)\n",
      "w_bot_left = (slice_y.stop,slice_x.start-1)\n",
      "print(w_bot_left)\n",
      "assert(bar[w_bot_left] < 1.0)\n",
      "\n",
      "# Deal with the bottom right corner, and surrounding pixels\n",
      "bot_right = (slice_y.stop,slice_x.stop)\n",
      "print(bot_right)\n",
      "assert(bar[bot_right]==1.0)\n",
      "e_bot_right = (slice_y.stop,slice_x.stop+1)\n",
      "print(e_bot_right)\n",
      "assert(bar[e_bot_right]<1.0)\n",
      "se_bot_right = (slice_y.stop+1,slice_x.stop+1)\n",
      "print(se_bot_right)\n",
      "assert(bar[se_bot_right]<1.0)\n",
      "s_bot_right = (slice_y.stop+1,slice_x.stop)\n",
      "print(s_bot_right)\n",
      "assert(bar[s_bot_right]<1.0)"
     ],
     "language": "python",
     "metadata": {},
     "outputs": [
      {
       "ename": "NameError",
       "evalue": "name 'baz' is not defined",
       "output_type": "pyerr",
       "traceback": [
        "\u001b[0;31m---------------------------------------------------------------------------\u001b[0m\n\u001b[0;31mNameError\u001b[0m                                 Traceback (most recent call last)",
        "\u001b[0;32m<ipython-input-10-1b13ff28b6d1>\u001b[0m in \u001b[0;36m<module>\u001b[0;34m()\u001b[0m\n\u001b[1;32m      1\u001b[0m \u001b[0;31m# These are more-or-less unit tests for the apodization code\u001b[0m\u001b[0;34m\u001b[0m\u001b[0;34m\u001b[0m\u001b[0m\n\u001b[0;32m----> 2\u001b[0;31m \u001b[0;32massert\u001b[0m\u001b[0;34m(\u001b[0m\u001b[0mnp\u001b[0m\u001b[0;34m.\u001b[0m\u001b[0mallclose\u001b[0m\u001b[0;34m(\u001b[0m\u001b[0mbaz\u001b[0m\u001b[0;34m[\u001b[0m\u001b[0mslice_y\u001b[0m\u001b[0;34m,\u001b[0m\u001b[0mslice_x\u001b[0m\u001b[0;34m]\u001b[0m\u001b[0;34m,\u001b[0m\u001b[0mfoo\u001b[0m\u001b[0;34m.\u001b[0m\u001b[0mbase_grid\u001b[0m\u001b[0;34m-\u001b[0m\u001b[0mnp\u001b[0m\u001b[0;34m.\u001b[0m\u001b[0mmean\u001b[0m\u001b[0;34m(\u001b[0m\u001b[0mfoo\u001b[0m\u001b[0;34m.\u001b[0m\u001b[0mbase_grid\u001b[0m\u001b[0;34m)\u001b[0m\u001b[0;34m)\u001b[0m\u001b[0;34m)\u001b[0m\u001b[0;34m\u001b[0m\u001b[0m\n\u001b[0m\u001b[1;32m      3\u001b[0m \u001b[0;32massert\u001b[0m\u001b[0;34m(\u001b[0m\u001b[0mnp\u001b[0m\u001b[0;34m.\u001b[0m\u001b[0mallclose\u001b[0m\u001b[0;34m(\u001b[0m\u001b[0;34m(\u001b[0m\u001b[0mbaz\u001b[0m\u001b[0;34m*\u001b[0m\u001b[0mbar\u001b[0m\u001b[0;34m)\u001b[0m\u001b[0;34m[\u001b[0m\u001b[0mslice_y\u001b[0m\u001b[0;34m,\u001b[0m\u001b[0mslice_x\u001b[0m\u001b[0;34m]\u001b[0m\u001b[0;34m,\u001b[0m\u001b[0mfoo\u001b[0m\u001b[0;34m.\u001b[0m\u001b[0mbase_grid\u001b[0m\u001b[0;34m-\u001b[0m\u001b[0mnp\u001b[0m\u001b[0;34m.\u001b[0m\u001b[0mmean\u001b[0m\u001b[0;34m(\u001b[0m\u001b[0mfoo\u001b[0m\u001b[0;34m.\u001b[0m\u001b[0mbase_grid\u001b[0m\u001b[0;34m)\u001b[0m\u001b[0;34m)\u001b[0m\u001b[0;34m)\u001b[0m\u001b[0;34m\u001b[0m\u001b[0m\n\u001b[1;32m      4\u001b[0m \u001b[0;34m\u001b[0m\u001b[0m\n\u001b[1;32m      5\u001b[0m \u001b[0;31m# Deal with the top left corner, and surrounding pixels\u001b[0m\u001b[0;34m\u001b[0m\u001b[0;34m\u001b[0m\u001b[0m\n",
        "\u001b[0;31mNameError\u001b[0m: name 'baz' is not defined"
       ]
      }
     ],
     "prompt_number": 10
    },
    {
     "cell_type": "markdown",
     "metadata": {},
     "source": [
      "This is the command line needed to coerce [gdal_grid](http://www.gdal.org/gdal_grid.html) to read Cindy's .xyz file (munged to a .csv file to satisfy a very picky parser).\n",
      "\n",
      "N.B. Unless the -tye arguments list the **Northernmost** value first and then the **Southernmost** value, the geotransform shows up with a **positive** y pixel size, which causes all kinds of havoc in the downstream processing.\n",
      "\n",
      "    gdal_grid -a invdist:power=2.0:smoothing=1.0 -txe 90681.31 428869.59 -tye 4946932.68 4758102.0 -outsize 317 177 -of GTiff -ot Float32 -l LOntario_BGAUTM -zfield Bouguer LOntario_BGAUTM.vrt LOntario_NEWBGAUTM.tiff\n",
      "\n",
      "The .vrt file is reproduced here:\n",
      "\n",
      "    <OGRVRTDataSource>\n",
      "        <OGRVRTLayer name=\"LOntario_BGAUTM\">\n",
      "            <SrcDataSource>LOntario_BGAUTM.csv</SrcDataSource>\n",
      "            <GeometryType>wkbPoint</GeometryType>\n",
      "            <GeometryField encoding=\"PointFromColumns\" x=\"Eastings\" y=\"Northings\" z=\"Bouguer\"/>\n",
      "            <LayerSRS>EPSG:32618</LayerSRS>\n",
      "        </OGRVRTLayer>\n",
      "    </OGRVRTDataSource>\n",
      "\n",
      "The header of the .csv file is here (the rest of the lines contain the point data):\n",
      "\n",
      "    Eastings,Northings,PIX,Bouguer\n",
      "\n",
      "And the .csvt file is here:\n",
      "\n",
      "    \"Real\",\"Real\",\"Integer\",\"Real\"\n",
      "\n"
     ]
    }
   ],
   "metadata": {}
  }
 ]
}