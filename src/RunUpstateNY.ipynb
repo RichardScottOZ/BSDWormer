{
 "metadata": {
  "name": "",
  "signature": "sha256:b47612b4c29025f22cd8138c28970f358affbe033f8ad7aaa4dbeb9fe9291ede"
 },
 "nbformat": 3,
 "nbformat_minor": 0,
 "worksheets": [
  {
   "cells": [
    {
     "cell_type": "markdown",
     "metadata": {},
     "source": [
      "This is cribbed from the doctest of wormer.py\n",
      "\n",
      "Modified to deal with an Upstate NY dataset (from Erin Camp's area) rather than the Surat Basin."
     ]
    },
    {
     "cell_type": "code",
     "collapsed": false,
     "input": [
      "%matplotlib osx\n",
      "import numpy as np\n",
      "import numpy.ma as ma\n",
      "from osgeo import gdalnumeric\n",
      "from osgeo import gdal\n",
      "from osgeo import gdalconst\n",
      "from matplotlib import pyplot as plt\n",
      "import os.path\n",
      "import FourierDomainGrid as GRID\n",
      "import FourierDomainOps as FDO\n",
      "from Utility import isclose, viewRaster, writeVtkImage\n",
      "import wormer as w"
     ],
     "language": "python",
     "metadata": {},
     "outputs": [],
     "prompt_number": 1
    },
    {
     "cell_type": "code",
     "collapsed": false,
     "input": [
      "foo = w.Wormer()\n",
      "print(\"Initialized!\")\n",
      "filename = os.path.abspath('../test_data/UpstateNY/ERSPaddedUpstateNY.ers')\n",
      "#filename = os.path.abspath('/Users/frank/Desktop/Geothermal/EHRP2014/ERSPaddedLOntario_BGAUTM.ers')\n",
      "foo.importGdalRaster(filename)\n",
      "mask = (foo.base_grid == np.min(foo.base_grid))\n",
      "mfoo = ma.masked_array(foo.base_grid,mask=mask)\n",
      "dz = -8.*foo.dy\n",
      "bar = foo.wormLevel(dz=dz)\n",
      "print(\"Wormed!\")\n",
      "struct_elem = np.array([[0,1,0],\n",
      "                        [1,1,1],\n",
      "                        [0,1,0]],dtype=np.int32)\n",
      "(lbls,n_labels) = foo.collectWorms(bar)\n",
      "#(lbls,n_labels) = foo.collectWorms(bar,structure=struct_elem)\n",
      "print(\"Labeled!\")\n",
      "#foo.exportNewGdalRaster(bar, '../test_data/UpstateNY/%f_GTPaddedUpstateNY.ers'%dz,fmt='ERS')\n",
      "#foo.exportNewGdalRaster(bar, '/Users/frank/Desktop/Geothermal/EHRP2014/%f_PaddedLOntario_BGAUTM.ers'%dz,format='ERS')\n",
      "#writeVtkImage('foo',bar[-1:0:-1,:],origin=[-81.123191,38.4669429,dz],spacing=(foo.dx,-foo.dy,1))"
     ],
     "language": "python",
     "metadata": {},
     "outputs": [
      {
       "output_type": "stream",
       "stream": "stdout",
       "text": [
        "Initialized!\n",
        "Wormed!"
       ]
      },
      {
       "output_type": "stream",
       "stream": "stdout",
       "text": [
        "\n",
        "Labeled!\n"
       ]
      }
     ],
     "prompt_number": 16
    },
    {
     "cell_type": "code",
     "collapsed": false,
     "input": [
      "print(n_labels)\n",
      "viewRaster(lbls)"
     ],
     "language": "python",
     "metadata": {},
     "outputs": [
      {
       "output_type": "stream",
       "stream": "stdout",
       "text": [
        "79\n"
       ]
      }
     ],
     "prompt_number": 17
    },
    {
     "cell_type": "code",
     "collapsed": false,
     "input": [
      "worm_segments = {}\n",
      "for i in range(1,n_labels):\n",
      "    worm_segments[i] = np.argwhere(lbls == i)\n",
      "    "
     ],
     "language": "python",
     "metadata": {},
     "outputs": [],
     "prompt_number": 18
    },
    {
     "cell_type": "code",
     "collapsed": false,
     "input": [
      "from scipy import spatial\n",
      "seg = worm_segments[2].copy() # The KDTree really doesn't like having its data mucked around with...\n",
      "ordered = []\n",
      "\n",
      "def orderedGenerator(points):\n",
      "    \"\"\"A Generator that yields nodes that are neigbors from the input array points.\n",
      "    \n",
      "    It returns a 2-tuple, the first item being the index of the neighbor, and the second\n",
      "    item being True if a break in the chain is encountered.\n",
      "    \"\"\"\n",
      "    used = np.zeros(len(points),dtype=np.bool_)\n",
      "    tree = spatial.KDTree(points)\n",
      "    last_point = points[0]\n",
      "    for pt in range(len(points)):    # Outer loop; ensure we get all of the nodes\n",
      "        if used[pt]:\n",
      "            continue                 # We've already used this node\n",
      "        dist = np.linalg.norm(pt-last_point)\n",
      "        yield (pt,(dist>2.))        # Yield it to the caller\n",
      "        last_point = pt              # Keep the last point\n",
      "        used[pt] = True              # Mark it as being used\n",
      "        neighbors = tree.query(points[pt],k=3,distance_upper_bound=1.5) # Should only yield touching points\n",
      "        \"\"\"This strategy assumes there are only two neighbors to each node.\n",
      "        WARNING! This will probably fail silently if we encounter a \n",
      "        'saddle point' node.\n",
      "        \"\"\"\n",
      "        nb = neighbors[1][1]         # Throw away the first one returned: it is pt...\n",
      "        nb_dist = neighbors[0][1]\n",
      "        if used[nb] or (nb_dist > 2.): # Missing neighbors are indicated with infinite distances; this should catch that\n",
      "            nb = neighbors[1][2]     # use the _other_ neighbor...\n",
      "            nb_dist = neighbors[0][2]\n",
      "        try:\n",
      "            while (not used[nb]) and (nb_dist < 2.):\n",
      "                dist = np.linalg.norm(nb-last_point)\n",
      "                yield (nb,(dist>2.))    # yield it to the caller\n",
      "                last_point = nb          # Keep the last point\n",
      "                used[nb] = True          # and mark it as being used\n",
      "                neighbors = tree.query(points[nb],k=3,distance_upper_bound=1.5)\n",
      "                nb = neighbors[1][1]     # Throw away the first one returned: it is pt...\n",
      "                nb_dist = neighbors[0][1]\n",
      "                if used[nb] or (nb_dist > 2.):\n",
      "                    nb = neighbors[1][2] # use the _other_ neighbor...\n",
      "                    nb_dist = neighbors[0][2]\n",
      "        except IndexError:\n",
      "            pass\n",
      "\n",
      "\n",
      "\n",
      "for idx,brk in orderedGenerator(seg):  # All of the heavy lifting is done in orderedGenerator\n",
      "    ordered += [idx]               # insert its index into the ordered list\n",
      "    "
     ],
     "language": "python",
     "metadata": {},
     "outputs": [],
     "prompt_number": 19
    },
    {
     "cell_type": "code",
     "collapsed": false,
     "input": [
      "for i in range(1,n_labels):\n",
      "    fig = plt.figure()\n",
      "    seg = worm_segments[i]\n",
      "    ordered = []\n",
      "    xs = []\n",
      "    ys = []\n",
      "    vs = []\n",
      "    for idx,brk in orderedGenerator(seg):\n",
      "        if brk:\n",
      "            plt.plot(xs,ys)\n",
      "            xs = []\n",
      "            ys = []\n",
      "            vs = []\n",
      "        y = seg[idx][0]\n",
      "        x = seg[idx][1]\n",
      "        val = bar[y,x]\n",
      "        xs += [x]\n",
      "        ys += [y]\n",
      "        vs += [val]\n",
      "    plt.plot(xs,ys)\n",
      "fig.show()\n"
     ],
     "language": "python",
     "metadata": {},
     "outputs": [],
     "prompt_number": 20
    },
    {
     "cell_type": "code",
     "collapsed": false,
     "input": [
      "from scipy.ndimage.measurements import label\n",
      "baz = label(bar > -100. , structure = np.ones((3,3)))\n",
      "print(baz[1])\n",
      "viewRaster(baz[0])"
     ],
     "language": "python",
     "metadata": {},
     "outputs": [
      {
       "output_type": "stream",
       "stream": "stdout",
       "text": [
        "79\n"
       ]
      }
     ],
     "prompt_number": 52
    },
    {
     "cell_type": "code",
     "collapsed": false,
     "input": [
      "foo.ds.GetProjection()"
     ],
     "language": "python",
     "metadata": {},
     "outputs": [
      {
       "metadata": {},
       "output_type": "pyout",
       "prompt_number": 21,
       "text": [
        "'GEOGCS[\"NAD83\",DATUM[\"North_American_Datum_1983\",SPHEROID[\"GRS 1980\",6378137,298.257222101,AUTHORITY[\"EPSG\",\"7019\"]],TOWGS84[0,0,0,0,0,0,0],AUTHORITY[\"EPSG\",\"6269\"]],PRIMEM[\"Greenwich\",0,AUTHORITY[\"EPSG\",\"8901\"]],UNIT[\"degree\",0.0174532925199433,AUTHORITY[\"EPSG\",\"9108\"]],AXIS[\"Lat\",NORTH],AXIS[\"Long\",EAST],AUTHORITY[\"EPSG\",\"4269\"]]'"
       ]
      }
     ],
     "prompt_number": 21
    },
    {
     "cell_type": "code",
     "collapsed": false,
     "input": [],
     "language": "python",
     "metadata": {},
     "outputs": []
    }
   ],
   "metadata": {}
  }
 ]
}