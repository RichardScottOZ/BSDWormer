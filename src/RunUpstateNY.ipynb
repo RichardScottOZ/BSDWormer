{
 "metadata": {
  "name": "",
  "signature": "sha256:eed67162e70b9dfb7b745dba7ca0e7bd426345c5208c2933adef068eadabef1c"
 },
 "nbformat": 3,
 "nbformat_minor": 0,
 "worksheets": [
  {
   "cells": [
    {
     "cell_type": "markdown",
     "metadata": {},
     "source": [
      "This is cribbed from the doctest of wormer.py\n",
      "\n",
      "Modified to deal with an Upstate NY dataset (from Erin Camp's area) rather than the Surat Basin."
     ]
    },
    {
     "cell_type": "code",
     "collapsed": false,
     "input": [
      "#%gui wx\n",
      "%matplotlib osx\n",
      "import numpy as np\n",
      "import numpy.ma as ma\n",
      "from osgeo import gdalnumeric\n",
      "from osgeo import gdal\n",
      "from osgeo import gdalconst\n",
      "from matplotlib import pyplot as plt\n",
      "import os.path\n",
      "import FourierDomainGrid as GRID\n",
      "import FourierDomainOps as FDO\n",
      "from Utility import isclose, viewRaster, writeVtkImage, writeVtkWorms, GetExtent, ReprojectCoords\n",
      "import wormer as w"
     ],
     "language": "python",
     "metadata": {},
     "outputs": [],
     "prompt_number": 1
    },
    {
     "cell_type": "code",
     "collapsed": false,
     "input": [
      "foo = w.Wormer()\n",
      "print(\"Initialized!\")\n",
      "filename = os.path.abspath('../test_data/UpstateNY/ERSPaddedUpstateNY.ers')\n",
      "#filename = os.path.abspath('/Users/frank/Desktop/Geothermal/EHRP2014/ERSPaddedLOntario_BGAUTM.ers')\n",
      "foo.importGdalRaster(filename)\n",
      "mask = (foo.base_grid == np.min(foo.base_grid))\n",
      "mfoo = ma.masked_array(foo.base_grid,mask=mask)\n",
      "dz = -8.*foo.dy\n",
      "bar = foo.wormLevel(dz=dz)\n",
      "print(\"Wormed!\")\n",
      "struct_elem = np.array([[0,1,0],\n",
      "                        [1,1,1],\n",
      "                        [0,1,0]],dtype=np.int32)\n",
      "#(lbls,n_labels) = foo.collectWorms(bar[1:-1,1:-1])\n",
      "(lbls,n_labels) = foo.collectWorms(bar,structure=struct_elem)\n",
      "print(\"Labeled!\")\n",
      "#foo.exportNewGdalRaster(bar, '../test_data/UpstateNY/%f_GTPaddedUpstateNY.ers'%dz,fmt='ERS')\n",
      "#foo.exportNewGdalRaster(bar, '/Users/frank/Desktop/Geothermal/EHRP2014/%f_PaddedLOntario_BGAUTM.ers'%dz,format='ERS')\n",
      "#writeVtkImage('foo',bar[-1:0:-1,:],origin=[-81.123191,38.4669429,dz],spacing=(foo.dx,-foo.dy,1))"
     ],
     "language": "python",
     "metadata": {},
     "outputs": [
      {
       "output_type": "stream",
       "stream": "stdout",
       "text": [
        "Initialized!\n",
        "Wormed!"
       ]
      },
      {
       "output_type": "stream",
       "stream": "stdout",
       "text": [
        "\n",
        "Labeled!\n"
       ]
      }
     ],
     "prompt_number": 2
    },
    {
     "cell_type": "code",
     "collapsed": true,
     "input": [
      "import networkx as nx\n",
      "from scipy import spatial\n",
      "def buildGraph(seg):\n",
      "    G = nx.Graph()\n",
      "    tree = spatial.KDTree(seg)\n",
      "    for i,s in enumerate(seg):\n",
      "        neighbors = tree.query(s,k=3,distance_upper_bound=1.42)\n",
      "        G.add_node(tuple(s))\n",
      "        n1 = neighbors[1][1]\n",
      "        G.add_edge(i,n1)\n",
      "        n2 = neighbors[1][2]\n",
      "        G.add_edge(i,n2)\n",
      "    return G\n"
     ],
     "language": "python",
     "metadata": {},
     "outputs": [],
     "prompt_number": 3
    },
    {
     "cell_type": "code",
     "collapsed": false,
     "input": [
      "# Build the graph, and then use NetworkX's minimum spanning tree stuff to walk it...\n",
      "worm_points = np.argwhere(bar> -100)\n",
      "print(worm_points.shape)\n",
      "worm_vals = bar[worm_points[:,0],worm_points[:,1]]\n",
      "G = buildGraph(worm_points)\n",
      "\n",
      "\n",
      "mst = nx.minimum_spanning_tree(G)\n",
      "num_nodes = worm_points.shape[0]\n",
      "visited = np.zeros(num_nodes+1,dtype=np.bool_)\n",
      "segs = []\n",
      "for nd in range(num_nodes+1):                       # Loop over all nodes\n",
      "    if not visited[nd]:                           # Check to see if we've been here before\n",
      "        dfst = nx.dfs_tree(mst,nd)                # Build a Depth First Search Tree rooted at nd \n",
      "        visited[nd] = True                        # Mark nd as visited\n",
      "        bingo = []                                # Start a new list to hold results; will be included as element in master list\n",
      "        for (source,dest,d) in nx.dfs_labeled_edges(dfst,nd):\n",
      "            if d['dir'] != 'forward':\n",
      "                # Backtracking or out of tree edge; not interested\n",
      "                continue\n",
      "            if source == dest:\n",
      "                # Root of tree\n",
      "                last_node = dest      # Initialize last node\n",
      "                visited[dest] = True  # and mark dest visited\n",
      "                continue\n",
      "            if source >= num_nodes or dest >= num_nodes:\n",
      "                # FIXME: HACK!!! Got to figure out what's going on here\n",
      "                continue\n",
      "            if last_node != source:\n",
      "                # We've switched branches!\n",
      "                segs += [bingo]          # Add the accumulated edges to seg\n",
      "                bingo = [(source,dest)]  # and initialize a new bingo list with this edge\n",
      "            else:\n",
      "                # We're tracking a single branch (last_node == source)\n",
      "                bingo += [(source,dest)] # Add the new edge to the bingo list\n",
      "            last_node = dest\n",
      "            visited[dest] = True\n",
      "        segs += [bingo]  # Add the last bingo list\n",
      "print(len(segs))  \n"
     ],
     "language": "python",
     "metadata": {},
     "outputs": [
      {
       "output_type": "stream",
       "stream": "stdout",
       "text": [
        "(9651, 2)\n",
        "519"
       ]
      },
      {
       "output_type": "stream",
       "stream": "stdout",
       "text": [
        "\n"
       ]
      }
     ],
     "prompt_number": 20
    },
    {
     "cell_type": "code",
     "collapsed": true,
     "input": [
      "fig = plt.figure()\n",
      "for s in segs:\n",
      "    if s == []:\n",
      "        continue\n",
      "    xs = [worm_points[s[0][0],1]]\n",
      "    ys = [worm_points[s[0][0],0]]\n",
      "    for edge in s:\n",
      "        xn = worm_points[edge[1],1]\n",
      "        yn = worm_points[edge[1],0]\n",
      "        xs += [xn]\n",
      "        ys += [yn]\n",
      "    plt.plot(xs,ys)\n",
      "plt.imshow(lbls)\n",
      "fig.show()\n"
     ],
     "language": "python",
     "metadata": {},
     "outputs": [],
     "prompt_number": 24
    },
    {
     "cell_type": "code",
     "collapsed": false,
     "input": [
      "%debug"
     ],
     "language": "python",
     "metadata": {},
     "outputs": []
    },
    {
     "cell_type": "code",
     "collapsed": false,
     "input": [
      "print([(x,y) for x,y in zip(xs,ys)])"
     ],
     "language": "python",
     "metadata": {},
     "outputs": [
      {
       "output_type": "stream",
       "stream": "stdout",
       "text": [
        "[(511, 22), (511, 23), (510, 23), (510, 24), (509, 24), (509, 25), (508, 25), (508, 26), (508, 27), (507, 27), (507, 28), (506, 28), (506, 29), (505, 29), (505, 30), (504, 30), (504, 31), (503, 31), (503, 32), (502, 32), (502, 33), (501, 33), (501, 34), (501, 35), (502, 34), (502, 35), (503, 34), (504, 34), (504, 33), (505, 33), (505, 32), (506, 32), (507, 32), (507, 31), (508, 31), (509, 31), (509, 30), (510, 30), (511, 29), (511, 30), (500, 34), (500, 35), (500, 36), (499, 35), (499, 36)]\n"
       ]
      }
     ],
     "prompt_number": 9
    },
    {
     "cell_type": "code",
     "collapsed": false,
     "input": [
      "plt.plot(xs,ys)\n",
      "plt.minorticks_on()\n",
      "plt.grid(which='both')"
     ],
     "language": "python",
     "metadata": {},
     "outputs": [],
     "prompt_number": 17
    },
    {
     "cell_type": "code",
     "collapsed": false,
     "input": [
      "writeVtkWorms('foobar',points=worm_points,segments=lns,vals=worm_vals)"
     ],
     "language": "python",
     "metadata": {},
     "outputs": []
    },
    {
     "cell_type": "code",
     "collapsed": false,
     "input": [
      "foo.ds.GetProjection()"
     ],
     "language": "python",
     "metadata": {},
     "outputs": [
      {
       "metadata": {},
       "output_type": "pyout",
       "prompt_number": 21,
       "text": [
        "'GEOGCS[\"NAD83\",DATUM[\"North_American_Datum_1983\",SPHEROID[\"GRS 1980\",6378137,298.257222101,AUTHORITY[\"EPSG\",\"7019\"]],TOWGS84[0,0,0,0,0,0,0],AUTHORITY[\"EPSG\",\"6269\"]],PRIMEM[\"Greenwich\",0,AUTHORITY[\"EPSG\",\"8901\"]],UNIT[\"degree\",0.0174532925199433,AUTHORITY[\"EPSG\",\"9108\"]],AXIS[\"Lat\",NORTH],AXIS[\"Long\",EAST],AUTHORITY[\"EPSG\",\"4269\"]]'"
       ]
      }
     ],
     "prompt_number": 21
    },
    {
     "cell_type": "code",
     "collapsed": false,
     "input": [
      "print(foo.geomat)\n",
      "GetExtent(foo.geomat,512,512)"
     ],
     "language": "python",
     "metadata": {},
     "outputs": [
      {
       "output_type": "stream",
       "stream": "stdout",
       "text": [
        "(-81.123191, 0.016, 0.0, 46.6589429, 0.0, -0.016)\n",
        "-81.123191 46.6589429\n",
        "-81.123191 38.4669429\n",
        "-72.93119100000001 38.4669429\n",
        "-72.93119100000001 46.6589429\n"
       ]
      },
      {
       "metadata": {},
       "output_type": "pyout",
       "prompt_number": 7,
       "text": [
        "[[-81.123191, 46.6589429],\n",
        " [-81.123191, 38.4669429],\n",
        " [-72.93119100000001, 38.4669429],\n",
        " [-72.93119100000001, 46.6589429]]"
       ]
      }
     ],
     "prompt_number": 7
    },
    {
     "cell_type": "code",
     "collapsed": false,
     "input": [
      "baz = np.array([[x,y] for (x,y) in zip(xs,ys)])\n",
      "#print(baz)\n",
      "G1 = buildGraph(baz)\n",
      "mst1 = nx.minimum_spanning_tree(G1)\n",
      "dfst1 = nx.dfs_tree(G1,0)\n",
      "blotto = nx.dfs_labeled_edges(dfst1,0)\n",
      "dummy = [(baz[e[0]],baz[e[1]],e) for e in blotto if e[2]['dir']=='forward']\n",
      "\n",
      "for i,el in enumerate(dummy):\n",
      "    print(i,el)\n"
     ],
     "language": "python",
     "metadata": {},
     "outputs": [
      {
       "output_type": "stream",
       "stream": "stdout",
       "text": [
        "0 (array([511,  22]), array([511,  22]), (0, 0, {'dir': 'forward'}))\n",
        "1 (array([511,  22]), array([511,  23]), (0, 1, {'dir': 'forward'}))\n",
        "2 (array([511,  23]), array([510,  23]), (1, 2, {'dir': 'forward'}))\n",
        "3 (array([510,  23]), array([510,  24]), (2, 3, {'dir': 'forward'}))\n",
        "4 (array([510,  24]), array([509,  24]), (3, 4, {'dir': 'forward'}))\n",
        "5 (array([509,  24]), array([509,  25]), (4, 5, {'dir': 'forward'}))\n",
        "6 (array([509,  25]), array([508,  25]), (5, 6, {'dir': 'forward'}))\n",
        "7 (array([508,  25]), array([508,  26]), (6, 7, {'dir': 'forward'}))\n",
        "8 (array([508,  26]), array([508,  27]), (7, 8, {'dir': 'forward'}))\n",
        "9 (array([508,  27]), array([507,  27]), (8, 9, {'dir': 'forward'}))\n",
        "10 (array([507,  27]), array([507,  28]), (9, 10, {'dir': 'forward'}))\n",
        "11 (array([507,  28]), array([506,  28]), (10, 11, {'dir': 'forward'}))\n",
        "12 (array([506,  28]), array([506,  29]), (11, 12, {'dir': 'forward'}))\n",
        "13 (array([506,  29]), array([505,  29]), (12, 13, {'dir': 'forward'}))\n",
        "14 (array([505,  29]), array([505,  30]), (13, 14, {'dir': 'forward'}))\n",
        "15 (array([505,  30]), array([504,  30]), (14, 15, {'dir': 'forward'}))\n",
        "16 (array([504,  30]), array([504,  31]), (15, 16, {'dir': 'forward'}))\n",
        "17 (array([504,  31]), array([503,  31]), (16, 17, {'dir': 'forward'}))\n",
        "18 (array([503,  31]), array([503,  32]), (17, 18, {'dir': 'forward'}))\n",
        "19 (array([503,  32]), array([502,  32]), (18, 19, {'dir': 'forward'}))\n",
        "20 (array([502,  32]), array([502,  33]), (19, 20, {'dir': 'forward'}))\n",
        "21 (array([502,  33]), array([502,  34]), (20, 24, {'dir': 'forward'}))\n",
        "22 (array([502,  34]), array([502,  35]), (24, 25, {'dir': 'forward'}))\n",
        "23 (array([502,  35]), array([501,  35]), (25, 23, {'dir': 'forward'}))\n",
        "24 (array([501,  35]), array([501,  34]), (23, 22, {'dir': 'forward'}))\n",
        "25 (array([501,  34]), array([500,  34]), (22, 40, {'dir': 'forward'}))\n",
        "26 (array([500,  34]), array([500,  35]), (40, 41, {'dir': 'forward'}))\n",
        "27 (array([500,  35]), array([500,  36]), (41, 42, {'dir': 'forward'}))\n",
        "28 (array([500,  36]), array([499,  36]), (42, 44, {'dir': 'forward'}))\n",
        "29 (array([499,  36]), array([499,  35]), (44, 43, {'dir': 'forward'}))"
       ]
      },
      {
       "output_type": "stream",
       "stream": "stdout",
       "text": [
        "\n",
        "30 (array([501,  34]), array([501,  33]), (22, 21, {'dir': 'forward'}))\n",
        "31 (array([502,  34]), array([503,  34]), (24, 26, {'dir': 'forward'}))\n",
        "32 (array([503,  34]), array([504,  34]), (26, 27, {'dir': 'forward'}))\n",
        "33 (array([504,  34]), array([504,  33]), (27, 28, {'dir': 'forward'}))\n",
        "34 (array([504,  33]), array([505,  33]), (28, 29, {'dir': 'forward'}))\n",
        "35 (array([505,  33]), array([505,  32]), (29, 30, {'dir': 'forward'}))\n",
        "36 (array([505,  32]), array([506,  32]), (30, 31, {'dir': 'forward'}))\n",
        "37 (array([506,  32]), array([507,  32]), (31, 32, {'dir': 'forward'}))\n",
        "38 (array([507,  32]), array([507,  31]), (32, 33, {'dir': 'forward'}))\n",
        "39 (array([507,  31]), array([508,  31]), (33, 34, {'dir': 'forward'}))\n",
        "40 (array([508,  31]), array([509,  31]), (34, 35, {'dir': 'forward'}))\n",
        "41 (array([509,  31]), array([509,  30]), (35, 36, {'dir': 'forward'}))\n",
        "42 (array([509,  30]), array([510,  30]), (36, 37, {'dir': 'forward'}))\n",
        "43 (array([510,  30]), array([511,  29]), (37, 38, {'dir': 'forward'}))\n",
        "44 (array([511,  29]), array([511,  30]), (38, 39, {'dir': 'forward'}))\n"
       ]
      }
     ],
     "prompt_number": 55
    },
    {
     "cell_type": "code",
     "collapsed": false,
     "input": [
      "print(worm_segments[20])\n",
      "print(ReprojectCoords(worm_segments[20],foo.ds.GetProjection(),foo.ds.GetProjection()))"
     ],
     "language": "python",
     "metadata": {},
     "outputs": [
      {
       "output_type": "stream",
       "stream": "stdout",
       "text": [
        "[[185 259]\n",
        " [185 260]\n",
        " [185 261]\n",
        " [185 262]\n",
        " [186 259]\n",
        " [186 260]\n",
        " [186 261]\n",
        " [186 262]\n",
        " [186 263]\n",
        " [186 264]\n",
        " [186 265]\n",
        " [186 266]\n",
        " [187 263]\n",
        " [187 264]\n",
        " [187 265]\n",
        " [187 266]]\n"
       ]
      },
      {
       "ename": "TypeError",
       "evalue": "in method 'new_CoordinateTransformation', argument 1 of type 'OSRSpatialReferenceShadow *'",
       "output_type": "pyerr",
       "traceback": [
        "\u001b[0;31m---------------------------------------------------------------------------\u001b[0m\n\u001b[0;31mTypeError\u001b[0m                                 Traceback (most recent call last)",
        "\u001b[0;32m<ipython-input-5-000e4de93d8d>\u001b[0m in \u001b[0;36m<module>\u001b[0;34m()\u001b[0m\n\u001b[1;32m      1\u001b[0m \u001b[0mprint\u001b[0m\u001b[0;34m(\u001b[0m\u001b[0mworm_segments\u001b[0m\u001b[0;34m[\u001b[0m\u001b[0;36m20\u001b[0m\u001b[0;34m]\u001b[0m\u001b[0;34m)\u001b[0m\u001b[0;34m\u001b[0m\u001b[0m\n\u001b[0;32m----> 2\u001b[0;31m \u001b[0mprint\u001b[0m\u001b[0;34m(\u001b[0m\u001b[0mReprojectCoords\u001b[0m\u001b[0;34m(\u001b[0m\u001b[0mworm_segments\u001b[0m\u001b[0;34m[\u001b[0m\u001b[0;36m20\u001b[0m\u001b[0;34m]\u001b[0m\u001b[0;34m,\u001b[0m\u001b[0mfoo\u001b[0m\u001b[0;34m.\u001b[0m\u001b[0mds\u001b[0m\u001b[0;34m.\u001b[0m\u001b[0mGetProjection\u001b[0m\u001b[0;34m(\u001b[0m\u001b[0;34m)\u001b[0m\u001b[0;34m,\u001b[0m\u001b[0mfoo\u001b[0m\u001b[0;34m.\u001b[0m\u001b[0mds\u001b[0m\u001b[0;34m.\u001b[0m\u001b[0mGetProjection\u001b[0m\u001b[0;34m(\u001b[0m\u001b[0;34m)\u001b[0m\u001b[0;34m)\u001b[0m\u001b[0;34m)\u001b[0m\u001b[0;34m\u001b[0m\u001b[0m\n\u001b[0m",
        "\u001b[0;32m/Users/frank/Documents/Src/Git Stuff/BSDWormer/src/Utility.py\u001b[0m in \u001b[0;36mReprojectCoords\u001b[0;34m(coords, src_srs, tgt_srs)\u001b[0m\n\u001b[1;32m    128\u001b[0m     '''\n\u001b[1;32m    129\u001b[0m     \u001b[0mtrans_coords\u001b[0m\u001b[0;34m=\u001b[0m\u001b[0;34m[\u001b[0m\u001b[0;34m]\u001b[0m\u001b[0;34m\u001b[0m\u001b[0m\n\u001b[0;32m--> 130\u001b[0;31m     \u001b[0mtransform\u001b[0m \u001b[0;34m=\u001b[0m \u001b[0mosr\u001b[0m\u001b[0;34m.\u001b[0m\u001b[0mCoordinateTransformation\u001b[0m\u001b[0;34m(\u001b[0m \u001b[0msrc_srs\u001b[0m\u001b[0;34m,\u001b[0m \u001b[0mtgt_srs\u001b[0m\u001b[0;34m)\u001b[0m\u001b[0;34m\u001b[0m\u001b[0m\n\u001b[0m\u001b[1;32m    131\u001b[0m     \u001b[0;32mfor\u001b[0m \u001b[0mx\u001b[0m\u001b[0;34m,\u001b[0m\u001b[0my\u001b[0m \u001b[0;32min\u001b[0m \u001b[0mcoords\u001b[0m\u001b[0;34m:\u001b[0m\u001b[0;34m\u001b[0m\u001b[0m\n\u001b[1;32m    132\u001b[0m         \u001b[0mx\u001b[0m\u001b[0;34m,\u001b[0m\u001b[0my\u001b[0m\u001b[0;34m,\u001b[0m\u001b[0mz\u001b[0m \u001b[0;34m=\u001b[0m \u001b[0mtransform\u001b[0m\u001b[0;34m.\u001b[0m\u001b[0mTransformPoint\u001b[0m\u001b[0;34m(\u001b[0m\u001b[0mx\u001b[0m\u001b[0;34m,\u001b[0m\u001b[0my\u001b[0m\u001b[0;34m)\u001b[0m\u001b[0;34m\u001b[0m\u001b[0m\n",
        "\u001b[0;32m/Users/frank/.virtualenvs/BSDWormer/lib/python3.4/site-packages/osgeo/osr.py\u001b[0m in \u001b[0;36m__init__\u001b[0;34m(self, *args)\u001b[0m\n\u001b[1;32m    741\u001b[0m     \u001b[0;32mdef\u001b[0m \u001b[0m__init__\u001b[0m\u001b[0;34m(\u001b[0m\u001b[0mself\u001b[0m\u001b[0;34m,\u001b[0m \u001b[0;34m*\u001b[0m\u001b[0margs\u001b[0m\u001b[0;34m)\u001b[0m\u001b[0;34m:\u001b[0m\u001b[0;34m\u001b[0m\u001b[0m\n\u001b[1;32m    742\u001b[0m         \u001b[0;34m\"\"\"__init__(self, SpatialReference src, SpatialReference dst) -> CoordinateTransformation\"\"\"\u001b[0m\u001b[0;34m\u001b[0m\u001b[0m\n\u001b[0;32m--> 743\u001b[0;31m         \u001b[0mthis\u001b[0m \u001b[0;34m=\u001b[0m \u001b[0m_osr\u001b[0m\u001b[0;34m.\u001b[0m\u001b[0mnew_CoordinateTransformation\u001b[0m\u001b[0;34m(\u001b[0m\u001b[0;34m*\u001b[0m\u001b[0margs\u001b[0m\u001b[0;34m)\u001b[0m\u001b[0;34m\u001b[0m\u001b[0m\n\u001b[0m\u001b[1;32m    744\u001b[0m         \u001b[0;32mtry\u001b[0m\u001b[0;34m:\u001b[0m \u001b[0mself\u001b[0m\u001b[0;34m.\u001b[0m\u001b[0mthis\u001b[0m\u001b[0;34m.\u001b[0m\u001b[0mappend\u001b[0m\u001b[0;34m(\u001b[0m\u001b[0mthis\u001b[0m\u001b[0;34m)\u001b[0m\u001b[0;34m\u001b[0m\u001b[0m\n\u001b[1;32m    745\u001b[0m         \u001b[0;32mexcept\u001b[0m\u001b[0;34m:\u001b[0m \u001b[0mself\u001b[0m\u001b[0;34m.\u001b[0m\u001b[0mthis\u001b[0m \u001b[0;34m=\u001b[0m \u001b[0mthis\u001b[0m\u001b[0;34m\u001b[0m\u001b[0m\n",
        "\u001b[0;31mTypeError\u001b[0m: in method 'new_CoordinateTransformation', argument 1 of type 'OSRSpatialReferenceShadow *'"
       ]
      }
     ],
     "prompt_number": 5
    },
    {
     "cell_type": "code",
     "collapsed": false,
     "input": [
      "\"\"\"\n",
      "Header from the Euler Pole data file...\n",
      "['/ ------------------------------------------------------------------------------\\n',\n",
      " '/ XYZ EXPORT [07/29/2014]\\n',\n",
      " '/ DATABASE   [.\\\\luis_4euler.gdb]\\n',\n",
      " '/ ------------------------------------------------------------------------------\\n',\n",
      " '/\\n',\n",
      " '/         Y      Depth  Backgrnd    dXY     dZ  Mask  WndSize    X_Euler   X_Offset    Y_Euler   Y_Offset \\n',\n",
      " '/========== ========== ========= ====== ====== ===== ======== ========== ========== ========== ========== \\n',\n",
      " '/\\n',\n",
      " 'Line Solutions\\n']\n",
      "\"\"\"\n",
      "\n",
      "f = open('/Users/frank/Desktop/GravMag/2014 Proposal/luis_ontario_euler.XYZ','rU')\n",
      "buf = f.readlines()\n",
      "f.close()\n",
      "for ln in buf[9:]:\n",
      "    flds = ln.split()\n",
      "    print(\"z = %s, x = %s, y = %s\"%(flds[1], flds[7], flds[9]))"
     ],
     "language": "python",
     "metadata": {},
     "outputs": []
    },
    {
     "cell_type": "code",
     "collapsed": false,
     "input": [],
     "language": "python",
     "metadata": {},
     "outputs": []
    }
   ],
   "metadata": {}
  }
 ]
}