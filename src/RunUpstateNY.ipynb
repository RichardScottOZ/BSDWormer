{
 "metadata": {
  "name": "",
  "signature": "sha256:6b86824fdb8e9193140836cab11297b39370e8ac145cac029fb798967e160488"
 },
 "nbformat": 3,
 "nbformat_minor": 0,
 "worksheets": [
  {
   "cells": [
    {
     "cell_type": "markdown",
     "metadata": {},
     "source": [
      "This is cribbed from the doctest of wormer.py\n",
      "\n",
      "Modified to deal with an Upstate NY dataset (from Erin Camp's area) rather than the Surat Basin."
     ]
    },
    {
     "cell_type": "code",
     "collapsed": false,
     "input": [
      "#%gui wx\n",
      "#%matplotlib osx\n",
      "%matplotlib inline\n",
      "import numpy as np\n",
      "import numpy.ma as ma\n",
      "from osgeo import gdalnumeric\n",
      "from osgeo import gdal\n",
      "from osgeo import gdalconst\n",
      "from matplotlib import pyplot as plt\n",
      "import os.path\n",
      "import FourierDomainGrid as GRID\n",
      "import FourierDomainOps as FDO\n",
      "from Utility import isclose, viewRaster, writeVtkImage, writeVtkWorms, GetExtent, ReprojectCoords\n",
      "import wormer as w\n",
      "import networkx as nx\n",
      "from scipy import spatial"
     ],
     "language": "python",
     "metadata": {},
     "outputs": [],
     "prompt_number": 1
    },
    {
     "cell_type": "code",
     "collapsed": false,
     "input": [
      "foo = w.Wormer()\n",
      "filename = os.path.abspath('../test_data/UpstateNY/ERSPaddedUpstateNY.ers')\n",
      "#filename = os.path.abspath('/Users/frank/Desktop/Geothermal/EHRP2014/ERSPaddedLOntario_BGAUTM.ers')\n",
      "foo.importGdalRaster(filename)\n",
      "mask = (foo.base_grid == np.min(foo.base_grid))\n",
      "mfoo = ma.masked_array(foo.base_grid,mask=mask)\n",
      "dz = -3.*foo.dy\n",
      "foo.wormLevel(dz=dz)\n",
      "foo.buildWormSegs()\n"
     ],
     "language": "python",
     "metadata": {},
     "outputs": [],
     "prompt_number": 2
    },
    {
     "cell_type": "code",
     "collapsed": true,
     "input": [
      "fig = plt.figure()\n",
      "ax = fig.add_subplot(111, aspect='equal')\n",
      "for s in foo.segs:\n",
      "    if s == []:\n",
      "        continue\n",
      "    posn = foo.G.node[s[0][0]]['pos']\n",
      "    xs = [posn[1]]\n",
      "    ys = [posn[0]]\n",
      "    val = foo.G.node[s[0][0]]['val']\n",
      "    vs = [val]\n",
      "    for edge in s:\n",
      "        posn = foo.G.node[edge[1]]['pos']\n",
      "        yn,xn = posn\n",
      "        xs += [xn]\n",
      "        ys += [yn]\n",
      "        vs += [foo.G.node[edge[1]]['val']]\n",
      "    plt.plot(xs,ys)\n",
      "#plt.imshow(lbls)\n",
      "#fig.show()\n"
     ],
     "language": "python",
     "metadata": {},
     "outputs": [
      {
       "metadata": {},
       "output_type": "display_data",
       "png": "[encoded data removed]",
       "text": [
        "<matplotlib.figure.Figure at 0x10ea43898>"
       ]
      }
     ],
     "prompt_number": 3
    },
    {
     "cell_type": "code",
     "collapsed": false,
     "input": [
      "max_valid_node = foo.G.number_of_nodes()-1\n",
      "all_points = [foo.G.node[p]['pos'] for p in range(max_valid_node)] # The last one is empty\n",
      "all_points = [(e[0],e[1],dz) for e in all_points]\n",
      "all_vals = [foo.G.node[p]['val'] for p in range(max_valid_node)] # The last one is empty\n",
      "all_lines = []\n",
      "for s in foo.segs:\n",
      "    if s == []:\n",
      "        continue\n",
      "    if s[0][0] >= max_valid_node or s[0][1] >= max_valid_node:\n",
      "        continue\n",
      "    # We need to int-ify things here so we don't trip\n",
      "    # over an isinstance(foo,int) with foo as numpy.int64 in the\n",
      "    # VTK writer checks since that fails... Go figure.\n",
      "    ln = [int(s[0][0]),int(s[0][1])]\n",
      "    for edge in s[1:]:\n",
      "        if edge[1] >= max_valid_node:\n",
      "            break\n",
      "        # Ditto...\n",
      "        ln += [int(edge[1])]\n",
      "    all_lines += [ln]\n"
     ],
     "language": "python",
     "metadata": {},
     "outputs": [],
     "prompt_number": 4
    },
    {
     "cell_type": "code",
     "collapsed": false,
     "input": [
      "print(max_valid_node)\n",
      "print(True in [(max_valid_node) in ln for ln in all_lines ])"
     ],
     "language": "python",
     "metadata": {},
     "outputs": []
    },
    {
     "cell_type": "code",
     "collapsed": false,
     "input": [
      "import numbers\n",
      "print(ln)\n",
      "print([isinstance(n,int) for n in ln])"
     ],
     "language": "python",
     "metadata": {},
     "outputs": [
      {
       "output_type": "stream",
       "stream": "stdout",
       "text": [
        "[1935, 2042, 2116, 2196, 2274, 2354, 2355, 2437, 2523, 2609, 2690, 2779, 2780, 2857, 2953, 3053, 3147, 3231, 3304, 3305, 3381, 3474, 3568, 3667, 3755, 3756, 3833, 3924, 4009, 4078, 4153, 4228]\n",
        "[True, True, True, True, True, True, True, True, True, True, True, True, True, True, True, True, True, True, True, True, True, True, True, True, True, True, True, True, True, True, True, True]\n"
       ]
      }
     ],
     "prompt_number": 5
    },
    {
     "cell_type": "code",
     "collapsed": false,
     "input": [
      "writeVtkWorms('foobar',points=all_points,lines=all_lines,vals=all_vals)"
     ],
     "language": "python",
     "metadata": {},
     "outputs": [
      {
       "output_type": "stream",
       "stream": "stderr",
       "text": [
        "Scalars.__init__._get_lookup_table.warning:\n",
        "\tUsing lookup_table='default'\n"
       ]
      }
     ],
     "prompt_number": 5
    },
    {
     "cell_type": "code",
     "collapsed": false,
     "input": [
      "foo.ds.GetProjection()"
     ],
     "language": "python",
     "metadata": {},
     "outputs": [
      {
       "metadata": {},
       "output_type": "pyout",
       "prompt_number": 21,
       "text": [
        "'GEOGCS[\"NAD83\",DATUM[\"North_American_Datum_1983\",SPHEROID[\"GRS 1980\",6378137,298.257222101,AUTHORITY[\"EPSG\",\"7019\"]],TOWGS84[0,0,0,0,0,0,0],AUTHORITY[\"EPSG\",\"6269\"]],PRIMEM[\"Greenwich\",0,AUTHORITY[\"EPSG\",\"8901\"]],UNIT[\"degree\",0.0174532925199433,AUTHORITY[\"EPSG\",\"9108\"]],AXIS[\"Lat\",NORTH],AXIS[\"Long\",EAST],AUTHORITY[\"EPSG\",\"4269\"]]'"
       ]
      }
     ],
     "prompt_number": 21
    },
    {
     "cell_type": "code",
     "collapsed": false,
     "input": [
      "print(foo.geomat)\n",
      "GetExtent(foo.geomat,512,512)"
     ],
     "language": "python",
     "metadata": {},
     "outputs": [
      {
       "output_type": "stream",
       "stream": "stdout",
       "text": [
        "(-81.123191, 0.016, 0.0, 46.6589429, 0.0, -0.016)\n",
        "-81.123191 46.6589429\n",
        "-81.123191 38.4669429\n",
        "-72.93119100000001 38.4669429\n",
        "-72.93119100000001 46.6589429\n"
       ]
      },
      {
       "metadata": {},
       "output_type": "pyout",
       "prompt_number": 7,
       "text": [
        "[[-81.123191, 46.6589429],\n",
        " [-81.123191, 38.4669429],\n",
        " [-72.93119100000001, 38.4669429],\n",
        " [-72.93119100000001, 46.6589429]]"
       ]
      }
     ],
     "prompt_number": 7
    },
    {
     "cell_type": "code",
     "collapsed": false,
     "input": [
      "print(worm_segments[20])\n",
      "print(ReprojectCoords(worm_segments[20],foo.ds.GetProjection(),foo.ds.GetProjection()))"
     ],
     "language": "python",
     "metadata": {},
     "outputs": []
    },
    {
     "cell_type": "code",
     "collapsed": false,
     "input": [
      "\"\"\"\n",
      "Header from the Euler Pole data file...\n",
      "['/ ------------------------------------------------------------------------------\\n',\n",
      " '/ XYZ EXPORT [07/29/2014]\\n',\n",
      " '/ DATABASE   [.\\\\luis_4euler.gdb]\\n',\n",
      " '/ ------------------------------------------------------------------------------\\n',\n",
      " '/\\n',\n",
      " '/         Y      Depth  Backgrnd    dXY     dZ  Mask  WndSize    X_Euler   X_Offset    Y_Euler   Y_Offset \\n',\n",
      " '/========== ========== ========= ====== ====== ===== ======== ========== ========== ========== ========== \\n',\n",
      " '/\\n',\n",
      " 'Line Solutions\\n']\n",
      "\"\"\"\n",
      "\n",
      "f = open('/Users/frank/Desktop/GravMag/2014 Proposal/luis_ontario_euler.XYZ','rU')\n",
      "buf = f.readlines()\n",
      "f.close()\n",
      "for ln in buf[9:]:\n",
      "    flds = ln.split()\n",
      "    print(\"z = %s, x = %s, y = %s\"%(flds[1], flds[7], flds[9]))"
     ],
     "language": "python",
     "metadata": {},
     "outputs": []
    },
    {
     "cell_type": "code",
     "collapsed": false,
     "input": [],
     "language": "python",
     "metadata": {},
     "outputs": []
    }
   ],
   "metadata": {}
  }
 ]
}