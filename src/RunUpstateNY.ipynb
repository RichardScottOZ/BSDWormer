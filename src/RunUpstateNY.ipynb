{
 "metadata": {
  "name": "",
  "signature": "sha256:01f4d22403a28f30396c703ddde04533f15e69cfe9413e8fbb859f787268422b"
 },
 "nbformat": 3,
 "nbformat_minor": 0,
 "worksheets": [
  {
   "cells": [
    {
     "cell_type": "markdown",
     "metadata": {},
     "source": [
      "This is cribbed from the doctest of wormer.py\n",
      "\n",
      "Modified to deal with an Upstate NY dataset (from Erin Camp's area) rather than the Surat Basin."
     ]
    },
    {
     "cell_type": "code",
     "collapsed": false,
     "input": [
      "#%gui wx\n",
      "#%matplotlib osx\n",
      "%matplotlib inline\n",
      "import numpy as np\n",
      "import numpy.ma as ma\n",
      "from osgeo import gdalnumeric\n",
      "from osgeo import gdal\n",
      "from osgeo import gdalconst\n",
      "from matplotlib import pyplot as plt\n",
      "import os.path\n",
      "import FourierDomainGrid as GRID\n",
      "import FourierDomainOps as FDO\n",
      "from Utility import isclose, viewRaster, writeVtkImage, writeVtkWorms, GetExtent, ReprojectCoords\n",
      "import wormer as w\n",
      "import networkx as nx\n",
      "from scipy import spatial"
     ],
     "language": "python",
     "metadata": {},
     "outputs": [],
     "prompt_number": 1
    },
    {
     "cell_type": "code",
     "collapsed": false,
     "input": [
      "foo = w.Wormer()\n",
      "#filename = os.path.abspath('../test_data/UpstateNY/ERSPaddedUpstateNY.ers')\n",
      "filename = os.path.abspath('/Users/frank/Desktop/Geothermal/EHRP2014/ERSPaddedLOntario_BGAUTM.ers')\n",
      "foo.importGdalRaster(filename)\n",
      "#mask = (foo.base_grid == np.min(foo.base_grid))\n",
      "#mfoo = ma.masked_array(foo.base_grid,mask=mask)\n",
      "dz = -3.*foo.dy\n",
      "foo.wormLevel(dz=dz)\n",
      "foo.buildWormSegs()\n"
     ],
     "language": "python",
     "metadata": {},
     "outputs": [
      {
       "output_type": "stream",
       "stream": "stderr",
       "text": [
        "/Users/frank/Documents/Src/Git Stuff/BSDWormer/src/FourierDomainOps.py:342: RuntimeWarning: invalid value encountered in true_divide\n",
        "  s_px = fct / (fct - fct_px)\n",
        "/Users/frank/Documents/Src/Git Stuff/BSDWormer/src/FourierDomainOps.py:344: RuntimeWarning: invalid value encountered in true_divide\n",
        "  s_py = fct / (fct - fct_py)\n",
        "/Users/frank/Documents/Src/Git Stuff/BSDWormer/src/FourierDomainOps.py:346: RuntimeWarning: invalid value encountered in true_divide\n",
        "  s_pxpy = fct / (fct - fct_pxpy)\n"
       ]
      }
     ],
     "prompt_number": 2
    },
    {
     "cell_type": "code",
     "collapsed": true,
     "input": [
      "# Plot the worms in matplotlib for debugging the graph walking algorithms...\n",
      "fig = plt.figure()\n",
      "ax = fig.add_subplot(111, aspect='equal')\n",
      "for s in foo.segs:\n",
      "    if s == []:\n",
      "        continue\n",
      "    posn = foo.G.node[s[0][0]]['pos']\n",
      "    xs = [posn[1]]\n",
      "    ys = [posn[0]]\n",
      "    val = foo.G.node[s[0][0]]['val']\n",
      "    vs = [val]\n",
      "    for edge in s:\n",
      "        posn = foo.G.node[edge[1]]['pos']\n",
      "        yn,xn = posn\n",
      "        xs += [xn]\n",
      "        ys += [yn]\n",
      "        vs += [foo.G.node[edge[1]]['val']]\n",
      "    plt.plot(xs,ys)\n",
      "#plt.imshow(lbls)\n",
      "# The plot without this call is flipped N for S. Bloody image coordinates!\n",
      "plt.gca().invert_yaxis()\n",
      "#fig.show()\n"
     ],
     "language": "python",
     "metadata": {},
     "outputs": [
      {
       "metadata": {},
       "output_type": "display_data",
       "png": "[encoded data removed]",
       "text": [
        "<matplotlib.figure.Figure at 0x10b0456a0>"
       ]
      }
     ],
     "prompt_number": 8
    },
    {
     "cell_type": "code",
     "collapsed": false,
     "input": [
      "max_valid_node = foo.G.number_of_nodes()-1\n",
      "all_points = [foo.G.node[p]['pos'] for p in range(max_valid_node)] # The last one is empty\n",
      "all_points = [(e[1],e[0],dz) for e in all_points] # Make sure we get East and North correct\n",
      "all_vals = [foo.G.node[p]['val'] for p in range(max_valid_node)] # The last one is empty\n",
      "all_lines = []\n",
      "for s in foo.segs:\n",
      "    if s == []:\n",
      "        continue\n",
      "    if s[0][0] >= max_valid_node or s[0][1] >= max_valid_node:\n",
      "        continue\n",
      "    # We need to int-ify things here so we don't trip\n",
      "    # over an isinstance(foo,int) with foo as numpy.int64 in the\n",
      "    # VTK writer checks since that fails... Go figure.\n",
      "    ln = [int(s[0][0]),int(s[0][1])]\n",
      "    for edge in s[1:]:\n",
      "        if edge[1] >= max_valid_node:\n",
      "            break\n",
      "        # Ditto...\n",
      "        ln += [int(edge[1])]\n",
      "    all_lines += [ln]\n"
     ],
     "language": "python",
     "metadata": {},
     "outputs": [],
     "prompt_number": 9
    },
    {
     "cell_type": "code",
     "collapsed": false,
     "input": [
      "print(max_valid_node)\n",
      "print(True in [(max_valid_node) in ln for ln in all_lines ])"
     ],
     "language": "python",
     "metadata": {},
     "outputs": [
      {
       "output_type": "stream",
       "stream": "stdout",
       "text": [
        "15462\n",
        "False\n"
       ]
      }
     ],
     "prompt_number": 5
    },
    {
     "cell_type": "code",
     "collapsed": false,
     "input": [
      "import numbers\n",
      "print(ln)\n",
      "print([isinstance(n,int) for n in ln])"
     ],
     "language": "python",
     "metadata": {},
     "outputs": [
      {
       "output_type": "stream",
       "stream": "stdout",
       "text": [
        "[15390, 15391]\n",
        "[True, True]\n"
       ]
      }
     ],
     "prompt_number": 6
    },
    {
     "cell_type": "code",
     "collapsed": false,
     "input": [
      "writeVtkWorms('foobar',points=all_points,lines=all_lines,vals=all_vals)"
     ],
     "language": "python",
     "metadata": {},
     "outputs": [
      {
       "output_type": "stream",
       "stream": "stderr",
       "text": [
        "Scalars.__init__._get_lookup_table.warning:\n",
        "\tUsing lookup_table='default'\n"
       ]
      }
     ],
     "prompt_number": 5
    },
    {
     "cell_type": "code",
     "collapsed": false,
     "input": [
      "foo.ds.GetProjection()"
     ],
     "language": "python",
     "metadata": {},
     "outputs": [
      {
       "metadata": {},
       "output_type": "pyout",
       "prompt_number": 6,
       "text": [
        "'PROJCS[\"NUTM18\",GEOGCS[\"WGS 84\",DATUM[\"WGS_1984\",SPHEROID[\"WGS 84\",6378137,298.257223563,AUTHORITY[\"EPSG\",\"7030\"]],TOWGS84[0,0,0,0,0,0,0],AUTHORITY[\"EPSG\",\"6326\"]],PRIMEM[\"Greenwich\",0,AUTHORITY[\"EPSG\",\"8901\"]],UNIT[\"degree\",0.0174532925199433,AUTHORITY[\"EPSG\",\"9108\"]],AXIS[\"Lat\",NORTH],AXIS[\"Long\",EAST],AUTHORITY[\"EPSG\",\"4326\"]],PROJECTION[\"Transverse_Mercator\"],PARAMETER[\"latitude_of_origin\",0],PARAMETER[\"central_meridian\",-75],PARAMETER[\"scale_factor\",0.9996],PARAMETER[\"false_easting\",500000],PARAMETER[\"false_northing\",0],UNIT[\"Meter\",1]]'"
       ]
      }
     ],
     "prompt_number": 6
    },
    {
     "cell_type": "code",
     "collapsed": false,
     "input": [
      "print(foo.geomat)\n",
      "GetExtent(foo.geomat,512,512)"
     ],
     "language": "python",
     "metadata": {},
     "outputs": [
      {
       "output_type": "stream",
       "stream": "stdout",
       "text": [
        "(-12802.1699999997, 1066.84, 0.0, 5125094.96, 0.0, -1066.84)\n",
        "-12802.1699999997 5125094.96\n",
        "-12802.1699999997 4578872.88\n",
        "533419.9100000003 4578872.88\n",
        "533419.9100000003 5125094.96\n"
       ]
      },
      {
       "metadata": {},
       "output_type": "pyout",
       "prompt_number": 8,
       "text": [
        "[[-12802.1699999997, 5125094.96],\n",
        " [-12802.1699999997, 4578872.88],\n",
        " [533419.9100000003, 4578872.88],\n",
        " [533419.9100000003, 5125094.96]]"
       ]
      }
     ],
     "prompt_number": 8
    },
    {
     "cell_type": "code",
     "collapsed": false,
     "input": [
      "print(worm_segments[20])\n",
      "print(ReprojectCoords(worm_segments[20],foo.ds.GetProjection(),foo.ds.GetProjection()))"
     ],
     "language": "python",
     "metadata": {},
     "outputs": []
    },
    {
     "cell_type": "code",
     "collapsed": false,
     "input": [
      "\"\"\"\n",
      "Header from the Euler Pole data file...\n",
      "['/ ------------------------------------------------------------------------------\\n',\n",
      " '/ XYZ EXPORT [07/29/2014]\\n',\n",
      " '/ DATABASE   [.\\\\luis_4euler.gdb]\\n',\n",
      " '/ ------------------------------------------------------------------------------\\n',\n",
      " '/\\n',\n",
      " '/         Y      Depth  Backgrnd    dXY     dZ  Mask  WndSize    X_Euler   X_Offset    Y_Euler   Y_Offset \\n',\n",
      " '/========== ========== ========= ====== ====== ===== ======== ========== ========== ========== ========== \\n',\n",
      " '/\\n',\n",
      " 'Line Solutions\\n']\n",
      "\"\"\"\n",
      "\n",
      "f = open('/Users/frank/Desktop/GravMag/2014 Proposal/luis_ontario_euler.XYZ','rU')\n",
      "buf = f.readlines()\n",
      "f.close()\n",
      "for ln in buf[9:]:\n",
      "    flds = ln.split()\n",
      "    print(\"z = %s, x = %s, y = %s\"%(flds[1], flds[7], flds[9]))"
     ],
     "language": "python",
     "metadata": {},
     "outputs": []
    },
    {
     "cell_type": "code",
     "collapsed": false,
     "input": [],
     "language": "python",
     "metadata": {},
     "outputs": []
    }
   ],
   "metadata": {}
  }
 ]
}