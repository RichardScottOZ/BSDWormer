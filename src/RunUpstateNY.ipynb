{
 "metadata": {
  "name": "",
  "signature": "sha256:c13a9aef2b0d6f909ef29b6f3253698bb213dcbdba2edce3cc0c46e08e86a8bf"
 },
 "nbformat": 3,
 "nbformat_minor": 0,
 "worksheets": [
  {
   "cells": [
    {
     "cell_type": "markdown",
     "metadata": {},
     "source": [
      "This is cribbed from the doctest of wormer.py\n",
      "\n",
      "Modified to deal with an Upstate NY dataset (from Erin Camp's area) rather than the Surat Basin."
     ]
    },
    {
     "cell_type": "code",
     "collapsed": false,
     "input": [
      "%matplotlib osx\n",
      "import numpy as np\n",
      "import numpy.ma as ma\n",
      "from osgeo import gdalnumeric\n",
      "from osgeo import gdal\n",
      "from osgeo import gdalconst\n",
      "from matplotlib import pyplot as plt\n",
      "import os.path\n",
      "import FourierDomainGrid as GRID\n",
      "import FourierDomainOps as FDO\n",
      "from Utility import isclose, viewRaster, writeVtkImage\n",
      "import wormer as w"
     ],
     "language": "python",
     "metadata": {},
     "outputs": [],
     "prompt_number": 1
    },
    {
     "cell_type": "code",
     "collapsed": false,
     "input": [
      "foo = w.Wormer()\n",
      "filename = os.path.abspath('../test_data/UpstateNY/ERSPaddedUpstateNY.ers')\n",
      "#filename = os.path.abspath('/Users/frank/Desktop/Geothermal/EHRP2014/ERSPaddedLOntario_BGAUTM.ers')\n",
      "foo.importGdalRaster(filename)\n",
      "mask = (foo.base_grid == np.min(foo.base_grid))\n",
      "mfoo = ma.masked_array(foo.base_grid,mask=mask)\n",
      "dz = -8.*foo.dy\n",
      "bar = foo.wormLevel(dz=dz)\n",
      "foo.exportNewGdalRaster(bar, '../test_data/UpstateNY/%f_GTPaddedUpstateNY.ers'%dz,format='ERS')\n",
      "#foo.exportNewGdalRaster(bar, '/Users/frank/Desktop/Geothermal/EHRP2014/%f_PaddedLOntario_BGAUTM.ers'%dz,format='ERS')\n",
      "#writeVtkImage('foo',bar[-1:0:-1,:],origin=[-81.123191,38.4669429,dz],spacing=(foo.dx,-foo.dy,1))"
     ],
     "language": "python",
     "metadata": {},
     "outputs": []
    },
    {
     "cell_type": "code",
     "collapsed": false,
     "input": [
      "%debug"
     ],
     "language": "python",
     "metadata": {},
     "outputs": [
      {
       "output_type": "stream",
       "stream": "stderr",
       "text": [
        "ERROR: No traceback has been produced, nothing to debug.\n"
       ]
      }
     ],
     "prompt_number": 1
    },
    {
     "cell_type": "code",
     "collapsed": false,
     "input": [
      "viewRaster(bar)"
     ],
     "language": "python",
     "metadata": {},
     "outputs": [],
     "prompt_number": 3
    },
    {
     "cell_type": "code",
     "collapsed": false,
     "input": [
      "foo.ds.SetProjection(\"EPSG:4326\")\n",
      "foo"
     ],
     "language": "python",
     "metadata": {},
     "outputs": [
      {
       "metadata": {},
       "output_type": "pyout",
       "prompt_number": 8,
       "text": [
        "0"
       ]
      }
     ],
     "prompt_number": 8
    },
    {
     "cell_type": "code",
     "collapsed": false,
     "input": [
      "foo.ds.GetProjection()"
     ],
     "language": "python",
     "metadata": {},
     "outputs": [
      {
       "metadata": {},
       "output_type": "pyout",
       "prompt_number": 12,
       "text": [
        "'EPSG:4326'"
       ]
      }
     ],
     "prompt_number": 12
    },
    {
     "cell_type": "code",
     "collapsed": false,
     "input": [],
     "language": "python",
     "metadata": {},
     "outputs": []
    }
   ],
   "metadata": {}
  }
 ]
}