{
 "metadata": {
  "name": "",
  "signature": "sha256:2aa6b590ccef736d929c94b96661254434a25dddccefb7506d533de49d3e9236"
 },
 "nbformat": 3,
 "nbformat_minor": 0,
 "worksheets": [
  {
   "cells": [
    {
     "cell_type": "markdown",
     "metadata": {},
     "source": [
      "The zero crossings via simple \"roller\" sign changes produces \"fat\" worms (i.e. results that are more than one pixel in width)."
     ]
    },
    {
     "cell_type": "code",
     "collapsed": false,
     "input": [
      "%matplotlib osx\n",
      "import numpy as np\n",
      "from matplotlib import pyplot as plt\n",
      "import FourierDomainGrid as FDG\n",
      "import FourierDomainOps as FDO\n",
      "m1 = -np.ones((512,512),np.float) + 2.0*np.identity(512,dtype=np.float)\\\n",
      "                                  + 2.0*np.roll(np.identity(512,dtype=np.float),+1,axis=1)\\\n",
      "                                  + 2.0*np.roll(np.identity(512,dtype=np.float),+2,axis=1)\\\n",
      "                                  + 2.0*np.identity(512,dtype=np.float)[::-1,:] \n",
      "#plt.imshow(m1)\n",
      "fdg = FDG.FourierDomainGrid()\n",
      "fdg.setSpatialGrid(m1)\n",
      "fdo = FDO.FourierDomainOps(fdg)\n",
      "zc = fdo.zeroCrossings(fdo.fdg.spatial_grid)\n",
      "plt.imshow(zc)\n",
      "print(zc)\n",
      "\n"
     ],
     "language": "python",
     "metadata": {},
     "outputs": [
      {
       "output_type": "stream",
       "stream": "stdout",
       "text": [
        "[[ True False  True ..., False  True  True]\n",
        " [ True  True False ...,  True  True  True]\n",
        " [False  True  True ...,  True  True False]\n",
        " ..., \n",
        " [ True  True  True ...,  True False  True]\n",
        " [ True  True  True ...,  True  True False]\n",
        " [False  True  True ..., False  True  True]]\n"
       ]
      }
     ],
     "prompt_number": 1
    },
    {
     "cell_type": "markdown",
     "metadata": {},
     "source": [
      "Let's see if we can get a little smarter than that.\n",
      "\n",
      "$y = mx + b$ is the eqn of a line. (duh.)\n",
      "\n",
      "Writing x as a 2D position vector, the slope is:\n",
      "\n",
      "$m = \\frac{f(x_0 + \\Delta x) - f(x_0)}{\\Delta x}$\n",
      "\n",
      "In our notation, the eqn of a piecewise linear segment from $x_0$ to $x_0 + \\Delta x$ becomes:\n",
      "\n",
      "$$f(x_0 + \\Delta x) = \\frac{f(x_0 + \\Delta x) - f(x_0)}{\\Delta x} \\times \\Delta x + f(x_0)$$\n",
      "(It is comforting that this reduces to an identity!)\n",
      "\n",
      "Let $s$ be the (scalar) fractional arc-length along the ''displacement'' vector $\\Delta x$. To find the zero-crossing, we write:\n",
      "\n",
      "$$0 = \\frac{f(x_0 + \\Delta x) - f(x_0)}{\\Delta x} \\times s \\times \\Delta x + f(x_0)$$\n",
      "We now need to solve this for $s$.\n",
      "\n",
      "Rearranging yields: \n",
      "$$\\frac{f(x_0) - f(x_0 + \\Delta x) }{\\Delta x} \\times s \\times \\Delta x = f(x_0)$$\n",
      "\n",
      "or:\n",
      "\n",
      "$$ (*) \\qquad s = \\frac{f(x_0)}{f(x_0) - f(x_0 + \\Delta x)} $$\n",
      "\n",
      "Hence, the position of the zero-crossing is $x_0 + s \\Delta x$\n",
      "\n",
      "Let's now work through the range of the expression for $s$ in the case where a zero-crossing is contained between $x_0$ and $x_0 + \\Delta x$. There are two possible cases:\n",
      "\n",
      "1. $f(x_0) > 0$ and $f(x_0 + \\Delta x) <0$. In this case $f(x_0) - f(x_0 + \\Delta x) > f(x_0) > 0$ and so $0 < s < 1$\n",
      "2. $f(x_0) < 0$ and $f(x_0 + \\Delta x) >0$. In this case $f(x_0) - f(x_0 + \\Delta x) < f(x_0) < 0$ and so, once again $0 < s < 1$\n",
      "\n",
      "In the case where the zero-crossing is _not_ contained between $x_0$ and $x_0 + \\Delta x$, there are four additional cases:\n",
      "\n",
      "3. $f(x_0) > f(x_0 + \\Delta x) >0$. Here, $s>1$.\n",
      "4. $f(x_0 + \\Delta x) > f(x_0) >0$. Here, $s<0$.\n",
      "5. $f(x_0) < f(x_0 + \\Delta x) <0$. Here, $s>1$.\n",
      "6. $f(x_0 + \\Delta x) < f(x_0) <0$. Here, $s<0$.\n",
      "\n",
      "The two pathological cases of the signed functions being exactly equal will result in zerodivides, and should be guarded against in the code somehow. They correspond to $s = \\pm \\infty$ depending on the sign of the functions.\n",
      "\n",
      "So we see that a necessary and sufficient test for a zero-crossing contained within the segment approximated by the piecewise linear function between $x_0$ and $x_o + \\Delta x$ is $ 0 \\leq s \\leq 1$.\n",
      "\n",
      "This suggests that our algorithm is simplified by symmetry. All cases, except for a few pathological things near the corners of the grid (which are in the discarded pad anyway) can be covered by $\\Delta x$ going in the $+x$, the $+y$ and the positive and negative diagonal directions. If we find $ 0 \\leq s \\leq 1$, we have a zero-crossing (possibly super-resolved to less than the pixel spacing, no less, if we want to recover those sub-pixel positions), and moreover, we have only calculated it precisely once (i.e. there are no duplicates).\n",
      "\n",
      "That's the theory, anyway. Let's try implementing it, and seeing where I've screwed up the logic! ;-)\n"
     ]
    },
    {
     "cell_type": "code",
     "collapsed": false,
     "input": [
      "zc_simple = fdo.simpleZeroCrossings(fdo.fdg.spatial_grid)\n",
      "plt.imshow(zc_simple)\n",
      "#print(zc_simple)\n"
     ],
     "language": "python",
     "metadata": {},
     "outputs": [
      {
       "metadata": {},
       "output_type": "pyout",
       "prompt_number": 2,
       "text": [
        "<matplotlib.image.AxesImage at 0x110d19278>"
       ]
      }
     ],
     "prompt_number": 2
    },
    {
     "cell_type": "markdown",
     "metadata": {},
     "source": [
      "Let's see what we can do to use the \"super-resolution\" property...\n"
     ]
    },
    {
     "cell_type": "code",
     "collapsed": false,
     "input": [
      "zc_nodes_y,zc_nodes_x,zc_vals = fdo.zeroCrossingsOnPixelEdge(fdo.fdg.spatial_grid,val_img=np.indices(fdo.fdg.spatial_grid.shape)[1])"
     ],
     "language": "python",
     "metadata": {},
     "outputs": [
      {
       "output_type": "stream",
       "stream": "stderr",
       "text": [
        "/Users/frank/Documents/Src/Git Stuff/BSDWormer/src/FourierDomainOps.py:392: FutureWarning: comparison to `None` will result in an elementwise object comparison in the future.\n",
        "  if val_img != None:\n",
        "/Users/frank/Documents/Src/Git Stuff/BSDWormer/src/FourierDomainOps.py:403: FutureWarning: comparison to `None` will result in an elementwise object comparison in the future.\n",
        "  if val_img != None:\n",
        "/Users/frank/Documents/Src/Git Stuff/BSDWormer/src/FourierDomainOps.py:409: FutureWarning: comparison to `None` will result in an elementwise object comparison in the future.\n",
        "  if val_img == None:\n"
       ]
      }
     ],
     "prompt_number": 2
    },
    {
     "cell_type": "code",
     "collapsed": false,
     "input": [
      "zc_nodes_x.shape, zc_nodes_x.shape, zc_vals.shape"
     ],
     "language": "python",
     "metadata": {},
     "outputs": [
      {
       "metadata": {},
       "output_type": "pyout",
       "prompt_number": 3,
       "text": [
        "((4080,), (4080,), (4080,))"
       ]
      }
     ],
     "prompt_number": 3
    },
    {
     "cell_type": "code",
     "collapsed": false,
     "input": [
      "zc_nodes_x[:20],zc_nodes_y[:20]"
     ],
     "language": "python",
     "metadata": {},
     "outputs": [
      {
       "metadata": {},
       "output_type": "pyout",
       "prompt_number": 8,
       "text": [
        "(array([   1.5,  511.5,    1.5,    2.5,  510.5,  511.5,    2.5,    3.5,\n",
        "         509.5,  510.5,    3.5,    4.5,  508.5,  509.5,    4.5,    5.5,\n",
        "         507.5,  508.5,    5.5,    6.5]),\n",
        " array([0, 0, 1, 1, 1, 1, 2, 2, 2, 2, 3, 3, 3, 3, 4, 4, 4, 4, 5, 5]))"
       ]
      }
     ],
     "prompt_number": 8
    },
    {
     "cell_type": "code",
     "collapsed": false,
     "input": [
      "plt.scatter(zc_nodes_x[:2040],zc_nodes_y[:2040],marker='o',c='blue')\n",
      "plt.scatter(zc_nodes_x[2040:],zc_nodes_y[2040:],marker='.',c='red')"
     ],
     "language": "python",
     "metadata": {},
     "outputs": [
      {
       "metadata": {},
       "output_type": "pyout",
       "prompt_number": 3,
       "text": [
        "<matplotlib.collections.PathCollection at 0x1131ffcf8>"
       ]
      }
     ],
     "prompt_number": 3
    },
    {
     "cell_type": "code",
     "collapsed": false,
     "input": [
      "zc_vals"
     ],
     "language": "python",
     "metadata": {},
     "outputs": [
      {
       "metadata": {},
       "output_type": "pyout",
       "prompt_number": 10,
       "text": [
        "array([  1, 511,   1, ...,   1, 510, 511])"
       ]
      }
     ],
     "prompt_number": 10
    },
    {
     "cell_type": "code",
     "collapsed": false,
     "input": [
      "zc_nodes_y"
     ],
     "language": "python",
     "metadata": {},
     "outputs": [
      {
       "metadata": {},
       "output_type": "pyout",
       "prompt_number": 6,
       "text": [
        "array([   0. ,    0. ,    1. , ...,  509.5,  510.5,  511.5])"
       ]
      }
     ],
     "prompt_number": 6
    },
    {
     "cell_type": "code",
     "collapsed": false,
     "input": [
      "bar = m1[(np.trunc(zc_nodes_y).astype(np.integer),np.trunc(zc_nodes_x).astype(np.integer))]"
     ],
     "language": "python",
     "metadata": {},
     "outputs": [],
     "prompt_number": 13
    },
    {
     "cell_type": "code",
     "collapsed": false,
     "input": [
      "bar==1"
     ],
     "language": "python",
     "metadata": {},
     "outputs": [
      {
       "metadata": {},
       "output_type": "pyout",
       "prompt_number": 16,
       "text": [
        "array([ True, False, False, ...,  True,  True, False], dtype=bool)"
       ]
      }
     ],
     "prompt_number": 16
    },
    {
     "cell_type": "code",
     "collapsed": false,
     "input": [
      "zc_nodes_y[bar==1].shape"
     ],
     "language": "python",
     "metadata": {},
     "outputs": [
      {
       "metadata": {},
       "output_type": "pyout",
       "prompt_number": 20,
       "text": [
        "(2036,)"
       ]
      }
     ],
     "prompt_number": 20
    },
    {
     "cell_type": "code",
     "collapsed": false,
     "input": [
      "bar.shape"
     ],
     "language": "python",
     "metadata": {},
     "outputs": [
      {
       "metadata": {},
       "output_type": "pyout",
       "prompt_number": 18,
       "text": [
        "(4072,)"
       ]
      }
     ],
     "prompt_number": 18
    },
    {
     "cell_type": "code",
     "collapsed": false,
     "input": [
      "1 == True"
     ],
     "language": "python",
     "metadata": {},
     "outputs": [
      {
       "metadata": {},
       "output_type": "pyout",
       "prompt_number": 21,
       "text": [
        "True"
       ]
      }
     ],
     "prompt_number": 21
    },
    {
     "cell_type": "code",
     "collapsed": false,
     "input": [],
     "language": "python",
     "metadata": {},
     "outputs": []
    }
   ],
   "metadata": {}
  }
 ]
}