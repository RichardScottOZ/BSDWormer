{
 "metadata": {
  "name": ""
 },
 "nbformat": 3,
 "nbformat_minor": 0,
 "worksheets": [
  {
   "cells": [
    {
     "cell_type": "markdown",
     "metadata": {},
     "source": [
      "The zero crossings via simple \"roller\" sign changes produces \"fat\" worms (i.e. results that are more than one pixel in width)."
     ]
    },
    {
     "cell_type": "code",
     "collapsed": false,
     "input": [
      "import numpy as np\n",
      "from matplotlib import pyplot as plt\n",
      "import FourierDomainGrid as FDG\n",
      "import FourierDomainOps as FDO\n",
      "m1 = -np.ones((512,512),np.float) + 2.0*np.identity(512,dtype=np.float) + 2.0*np.identity(512,dtype=np.float)[::-1,:]\n",
      "#plt.imshow(m1)\n",
      "fdg = FDG.FourierDomainGrid()\n",
      "fdg.setSpatialGrid(m1)\n",
      "fdo = FDO.FourierDomainOps(fdg)\n",
      "zc = fdo.zeroCrossings(fdo.fdg.spatial_grid)\n",
      "#plt.imshow(zc)\n",
      "print zc\n",
      "\n"
     ],
     "language": "python",
     "metadata": {},
     "outputs": [
      {
       "output_type": "stream",
       "stream": "stdout",
       "text": [
        "[[ True  True False ..., False  True  True]\n",
        " [ True  True  True ...,  True  True  True]\n",
        " [False  True  True ...,  True  True False]\n",
        " ..., \n",
        " [False  True  True ...,  True  True False]\n",
        " [ True  True  True ...,  True  True  True]\n",
        " [ True  True False ..., False  True  True]]\n"
       ]
      }
     ],
     "prompt_number": 1
    },
    {
     "cell_type": "markdown",
     "metadata": {},
     "source": [
      "Let's see if we can get a little smarter than that.\n",
      "\n",
      "$y = mx + b$ is the eqn of a line. (duh.)\n",
      "\n",
      "Writing x as a 2D position vector, if we have a known sign change from $f(x_0)$ to $f(x_0 + \\Delta x)$ the slope is:\n",
      "\n",
      "$m = \\frac{f(x_0 + \\Delta x) - f(x_0)}{\\Delta x}$\n",
      "\n",
      "In our notation, the eqn of a line becomes:\n",
      "\n",
      "$$f(x_0 + \\Delta x) = \\frac{f(x_0 + \\Delta x) - f(x_0)}{\\Delta x} \\times \\Delta x + f(x_0)$$\n",
      "\n",
      "Let $s$ be the (scalar) fractional arc-length along the ''displacement'' vector $\\Delta x$. To find the zero-crossing, we write:\n",
      "\n",
      "$$0 = \\frac{f(x_0 + \\Delta x) - f(x_0)}{\\Delta x} \\times s \\times \\Delta x + f(x_0)$$\n",
      "We now need to solve this for $s$.\n",
      "\n",
      "Rearranging yields: \n",
      "$$\\frac{f(x_0) - f(x_0 + \\Delta x) }{\\Delta x} \\times s \\times \\Delta x = f(x_0)$$\n",
      "\n",
      "or:\n",
      "\n",
      "$$ (*) \\qquad s = \\frac{f(x_0)}{f(x_0) - f(x_0 + \\Delta x)} $$\n",
      "\n",
      "Hence, the position of the zero-crossing is $x_0 + s \\Delta x$\n",
      "\n",
      "Let's now work through the range of the expression for $s$ in the case where a zero-crossing is contained between $x_0$ and $x_0 + \\Delta x$. There are two possible cases:\n",
      "\n",
      "1. $f(x_0) > 0$ and $f(x_0 + \\Delta x) <0$. In this case $f(x_0) - f(x_0 + \\Delta x) > f(x_0) > 0$ and so $0 < s < 1$\n",
      "2. $f(x_0) < 0$ and $f(x_0 + \\Delta x) >0$. In this case $f(x_0) - f(x_0 + \\Delta x) < f(x_0) < 0$ and so, once again $0 < s < 1$\n",
      "\n",
      "So we see that a sufficient test for a zero-crossing contained within the segment approximated by the piecewise linear function between $x_0$ and $x_o + \\Delta x$ is $ 0 \\leq s \\leq 1$.\n",
      "\n",
      "This suggests that our algorithm is simplified by symmetry. All cases, except for a few pathological things near the corners of the grid (which are in the discarded pad anyway) can be covered by $\\Delta x$ going in the $+x$, the $+y$ and the positive diagonal directions. If we find $ 0 \\leq s \\leq 1$, we have a zero-crossing (possibly super-resolved to less than the pixel spacing, no less, if we want to recover those sub-pixel positions), and moreover, we have only calculated it precisely once (i.e. there are no duplicates).\n",
      "\n",
      "That's the theory, anyway. Let's try implementing it, and seeing where I've screwed up the logic! ;-)\n"
     ]
    },
    {
     "cell_type": "code",
     "collapsed": false,
     "input": [
      "zc_simple = fdo.simpleZeroCrossings(fdo.fdg.spatial_grid)\n",
      "plt.imshow(zc_simple)\n",
      "#print zc_simple\n"
     ],
     "language": "python",
     "metadata": {},
     "outputs": [
      {
       "metadata": {},
       "output_type": "pyout",
       "prompt_number": 3,
       "text": [
        "<matplotlib.image.AxesImage at 0x108cb1c10>"
       ]
      },
      {
       "metadata": {},
       "output_type": "display_data",
       "png": "[encoded data removed]",
       "text": [
        "<matplotlib.figure.Figure at 0x10aedd190>"
       ]
      }
     ],
     "prompt_number": 3
    },
    {
     "cell_type": "code",
     "collapsed": false,
     "input": [],
     "language": "python",
     "metadata": {},
     "outputs": []
    }
   ],
   "metadata": {}
  }
 ]
}