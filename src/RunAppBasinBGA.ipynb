{
 "metadata": {
  "name": "",
  "signature": "sha256:7c5af2efc9a3da9362048e89b88bdbcdbd3fbf37f9b9c1aab6089f74dd82c894"
 },
 "nbformat": 3,
 "nbformat_minor": 0,
 "worksheets": [
  {
   "cells": [
    {
     "cell_type": "code",
     "collapsed": false,
     "input": [
      "This was orginally cribbed from the doctest of wormer.py\n",
      "\n",
      "Originally modified to deal with an Upstate NY dataset (from Erin Camp's area) rather than the Surat Basin.\n",
      "\n",
      "Now working with more-or-less arbitrary input GDAL readable rasters..."
     ],
     "language": "python",
     "metadata": {},
     "outputs": []
    },
    {
     "cell_type": "code",
     "collapsed": false,
     "input": [
      "%%javascript\n",
      "// change the mode of all current and future CodeMirror instances\n",
      "// This is a BLACK MAGIC convenience function for Frank to edit everything is something approximating emacs.\n",
      "// See https://nbviewer.jupyter.org/github/ivanov/scipy2014/blob/master/v%20in%20IPython.ipynb#ipython-vimception\n",
      "// for the original Vim version...\n",
      "function to(mode) {\n",
      "    var mode = mode || 'emacs'\n",
      "    // first let's apply emacs mode to all current cells\n",
      "    function to_mode(c) { return c.code_mirror.setOption('keyMap', mode);};\n",
      "    IPython.notebook.get_cells().map(to_mode);\n",
      "    // apply the mode to future cells created\n",
      "    IPython.Cell.options_default.cm_config.keyMap = mode;\n",
      "}\n",
      "\n",
      "require([\"/static/components/codemirror/keymap/emacs.js\"],\n",
      "     function (emacs) { \n",
      "         to('emacs'); \n",
      "         console.log('emacs.js loaded'); \n",
      "     });"
     ],
     "language": "python",
     "metadata": {},
     "outputs": [
      {
       "javascript": [
        "// change the mode of all current and future CodeMirror instances\n",
        "// This is a BLACK MAGIC convenience function for Frank to edit everything is something approximating emacs.\n",
        "// See https://nbviewer.jupyter.org/github/ivanov/scipy2014/blob/master/v%20in%20IPython.ipynb#ipython-vimception\n",
        "// for the original Vim version...\n",
        "function to(mode) {\n",
        "    var mode = mode || 'emacs'\n",
        "    // first let's apply emacs mode to all current cells\n",
        "    function to_mode(c) { return c.code_mirror.setOption('keyMap', mode);};\n",
        "    IPython.notebook.get_cells().map(to_mode);\n",
        "    // apply the mode to future cells created\n",
        "    IPython.Cell.options_default.cm_config.keyMap = mode;\n",
        "}\n",
        "\n",
        "require([\"/static/components/codemirror/keymap/emacs.js\"],\n",
        "     function (emacs) { \n",
        "         to('emacs'); \n",
        "         console.log('emacs.js loaded'); \n",
        "     });"
       ],
       "metadata": {},
       "output_type": "display_data",
       "text": [
        "<IPython.core.display.Javascript at 0x10af9de10>"
       ]
      }
     ],
     "prompt_number": 1
    },
    {
     "cell_type": "code",
     "collapsed": false,
     "input": [
      "#%gui wx\n",
      "#%matplotlib osx\n",
      "%matplotlib inline\n",
      "#import numpy as np\n",
      "from matplotlib import pyplot as plt\n",
      "import os.path\n",
      "import wormer as w\n",
      "from WriteWormsToPostGIS import PostGISWriter as PGW\n",
      "\n",
      "import sys"
     ],
     "language": "python",
     "metadata": {},
     "outputs": [],
     "prompt_number": 2
    },
    {
     "cell_type": "code",
     "collapsed": false,
     "input": [
      "job = w.Wormer()\n",
      "filename = os.path.abspath('../test_data/AppBasinGPFA/AppBasinMergedBGA2500.ers')\n",
      "job.importGdalRaster(filename)\n",
      "job.importExternallyPaddedRaster('../test_data/AppBasinGPFA/AppBasinMergedBGA2500Padded.ers')\n",
      "###db_basename = 'AppBasinMergedBGA2500Final'\n",
      "###pgw = PGW(srid=32618,db='postgresql://frank@localhost/frank',basename=db_basename)\n",
      "for dz in range(1,16):\n",
      "    #if dz == 0:\n",
      "    #    dz = 0.001\n",
      "    delta_z = 1000.\n",
      "    #dzm = -dz*job.dy\n",
      "    dzm = dz * delta_z\n",
      "    job.wormLevelAsPoints(dz=dzm)\n",
      "    job.buildWormSegs(dz=dz,clipped=True,nodata_in_worm_image=-100.,from_image=False)\n",
      "    #job.buildLevelForVTK(dz=dz,delta_z_in_units=dzm)\n",
      "    job.buildLevelForVTK(dz=dz,delta_z_in_units=-dzm)\n",
      "    #pgw.addWormLayer(job,dz)\n",
      "    #pgw.addWormPoints(job,dz)\n",
      "    ###pgw.addWormsAtHeightToDB(job,dz,srid=32618)\n",
      "# This thing does some SRID postprocessing on the bloody PostGIS database. \n",
      "# Why? Because I couldn't figure out any other way to make it work with geoalchemy2...\n",
      "###pgw.cleanUpDatabase()\n",
      "w.writeVtkWormLevels('/Users/frank/Documents/Src/Git Stuff/BSDWormer/test_data/AppBasinGPFA/AppBasinMergedBGAPadded',\n",
      "              job.all_points,\n",
      "              job.all_lines,\n",
      "              job.all_vals)\n"
     ],
     "language": "python",
     "metadata": {},
     "outputs": [
      {
       "output_type": "stream",
       "stream": "stderr",
       "text": [
        "/Users/frank/Documents/Src/Git Stuff/BSDWormer/src/FourierDomainOps.py:272: FutureWarning: comparison to `None` will result in an elementwise object comparison in the future.\n",
        "  if self.F_dxOp == None:\n",
        "/Users/frank/Documents/Src/Git Stuff/BSDWormer/src/FourierDomainOps.py:274: FutureWarning: comparison to `None` will result in an elementwise object comparison in the future.\n",
        "  if self.F_dyOp == None:\n",
        "/Users/frank/Documents/Src/Git Stuff/BSDWormer/src/FourierDomainOps.py:401: FutureWarning: comparison to `None` will result in an elementwise object comparison in the future.\n",
        "  if val_img != None:\n"
       ]
      },
      {
       "output_type": "stream",
       "stream": "stderr",
       "text": [
        "/Users/frank/Documents/Src/Git Stuff/BSDWormer/src/FourierDomainOps.py:419: FutureWarning: comparison to `None` will result in an elementwise object comparison in the future.\n",
        "  if val_img != None:\n",
        "/Users/frank/Documents/Src/Git Stuff/BSDWormer/src/FourierDomainOps.py:425: FutureWarning: comparison to `None` will result in an elementwise object comparison in the future.\n",
        "  if val_img == None:\n",
        "Scalars.__init__._get_lookup_table.warning:\n",
        "\tUsing lookup_table='default'"
       ]
      },
      {
       "output_type": "stream",
       "stream": "stderr",
       "text": [
        "\n",
        "Scalars.__init__._get_lookup_table.warning:\n",
        "\tUsing lookup_table='default'"
       ]
      },
      {
       "output_type": "stream",
       "stream": "stderr",
       "text": [
        "\n",
        "Scalars.__init__._get_lookup_table.warning:\n",
        "\tUsing lookup_table='default'"
       ]
      },
      {
       "output_type": "stream",
       "stream": "stderr",
       "text": [
        "\n",
        "Scalars.__init__._get_lookup_table.warning:\n",
        "\tUsing lookup_table='default'"
       ]
      },
      {
       "output_type": "stream",
       "stream": "stderr",
       "text": [
        "\n",
        "Scalars.__init__._get_lookup_table.warning:\n",
        "\tUsing lookup_table='default'"
       ]
      },
      {
       "output_type": "stream",
       "stream": "stderr",
       "text": [
        "\n",
        "Scalars.__init__._get_lookup_table.warning:\n",
        "\tUsing lookup_table='default'"
       ]
      },
      {
       "output_type": "stream",
       "stream": "stderr",
       "text": [
        "\n",
        "Scalars.__init__._get_lookup_table.warning:\n",
        "\tUsing lookup_table='default'"
       ]
      },
      {
       "output_type": "stream",
       "stream": "stderr",
       "text": [
        "\n",
        "Scalars.__init__._get_lookup_table.warning:\n",
        "\tUsing lookup_table='default'"
       ]
      },
      {
       "output_type": "stream",
       "stream": "stderr",
       "text": [
        "\n",
        "Scalars.__init__._get_lookup_table.warning:\n",
        "\tUsing lookup_table='default'"
       ]
      },
      {
       "output_type": "stream",
       "stream": "stderr",
       "text": [
        "\n",
        "Scalars.__init__._get_lookup_table.warning:\n",
        "\tUsing lookup_table='default'"
       ]
      },
      {
       "output_type": "stream",
       "stream": "stderr",
       "text": [
        "\n",
        "Scalars.__init__._get_lookup_table.warning:\n",
        "\tUsing lookup_table='default'"
       ]
      },
      {
       "output_type": "stream",
       "stream": "stderr",
       "text": [
        "\n",
        "Scalars.__init__._get_lookup_table.warning:\n",
        "\tUsing lookup_table='default'"
       ]
      },
      {
       "output_type": "stream",
       "stream": "stderr",
       "text": [
        "\n",
        "Scalars.__init__._get_lookup_table.warning:\n",
        "\tUsing lookup_table='default'"
       ]
      },
      {
       "output_type": "stream",
       "stream": "stderr",
       "text": [
        "\n",
        "Scalars.__init__._get_lookup_table.warning:\n",
        "\tUsing lookup_table='default'"
       ]
      },
      {
       "output_type": "stream",
       "stream": "stderr",
       "text": [
        "\n",
        "Scalars.__init__._get_lookup_table.warning:\n",
        "\tUsing lookup_table='default'"
       ]
      },
      {
       "output_type": "stream",
       "stream": "stderr",
       "text": [
        "\n"
       ]
      }
     ],
     "prompt_number": 3
    },
    {
     "cell_type": "code",
     "collapsed": false,
     "input": [
      "%debug"
     ],
     "language": "python",
     "metadata": {},
     "outputs": [
      {
       "output_type": "stream",
       "stream": "stdout",
       "text": [
        "> \u001b[0;32m/Users/frank/Documents/Src/Git Stuff/BSDWormer/src/Utility.py\u001b[0m(43)\u001b[0;36mwriteVtkWorms\u001b[0;34m()\u001b[0m\n",
        "\u001b[0;32m     42 \u001b[0;31m\u001b[0;32mdef\u001b[0m \u001b[0mwriteVtkWorms\u001b[0m\u001b[0;34m(\u001b[0m\u001b[0mfilename\u001b[0m\u001b[0;34m,\u001b[0m\u001b[0mpoints\u001b[0m\u001b[0;34m,\u001b[0m\u001b[0mlines\u001b[0m\u001b[0;34m,\u001b[0m\u001b[0mvals\u001b[0m\u001b[0;34m)\u001b[0m\u001b[0;34m:\u001b[0m\u001b[0;34m\u001b[0m\u001b[0m\n",
        "\u001b[0m\u001b[0;32m---> 43 \u001b[0;31m    \u001b[0mpoints_list\u001b[0m \u001b[0;34m=\u001b[0m \u001b[0;34m[\u001b[0m\u001b[0mp\u001b[0m \u001b[0;32mfor\u001b[0m \u001b[0mv\u001b[0m \u001b[0;32min\u001b[0m \u001b[0mpoints\u001b[0m\u001b[0;34m.\u001b[0m\u001b[0mvalues\u001b[0m\u001b[0;34m(\u001b[0m\u001b[0;34m)\u001b[0m \u001b[0;32mfor\u001b[0m \u001b[0mp\u001b[0m \u001b[0;32min\u001b[0m \u001b[0mv\u001b[0m\u001b[0;34m]\u001b[0m\u001b[0;34m\u001b[0m\u001b[0m\n",
        "\u001b[0m\u001b[0;32m     44 \u001b[0;31m    \u001b[0mlines_list\u001b[0m \u001b[0;34m=\u001b[0m \u001b[0;34m[\u001b[0m\u001b[0mp\u001b[0m \u001b[0;32mfor\u001b[0m \u001b[0mv\u001b[0m \u001b[0;32min\u001b[0m \u001b[0mlines\u001b[0m\u001b[0;34m.\u001b[0m\u001b[0mvalues\u001b[0m\u001b[0;34m(\u001b[0m\u001b[0;34m)\u001b[0m \u001b[0;32mfor\u001b[0m \u001b[0mp\u001b[0m \u001b[0;32min\u001b[0m \u001b[0mv\u001b[0m\u001b[0;34m]\u001b[0m\u001b[0;34m\u001b[0m\u001b[0m\n",
        "\u001b[0m\n"
       ]
      },
      {
       "name": "stdout",
       "output_type": "stream",
       "stream": "stdout",
       "text": [
        "ipdb> p len(points)\n"
       ]
      },
      {
       "output_type": "stream",
       "stream": "stdout",
       "text": [
        "32644\n"
       ]
      },
      {
       "name": "stdout",
       "output_type": "stream",
       "stream": "stdout",
       "text": [
        "ipdb> p len(lines)\n"
       ]
      },
      {
       "output_type": "stream",
       "stream": "stdout",
       "text": [
        "8387\n"
       ]
      },
      {
       "name": "stdout",
       "output_type": "stream",
       "stream": "stdout",
       "text": [
        "ipdb> p len(vals)\n"
       ]
      },
      {
       "output_type": "stream",
       "stream": "stdout",
       "text": [
        "32644\n"
       ]
      },
      {
       "name": "stdout",
       "output_type": "stream",
       "stream": "stdout",
       "text": [
        "ipdb> p lines[:5]\n"
       ]
      },
      {
       "output_type": "stream",
       "stream": "stdout",
       "text": [
        "[[0, 3], [0, 16308, 16307, 16306, 8, 16322, 18, 16329, 16328, 30, 43, 54, 16357, 65, 16374, 16403, 105, 16430, 16431, 106, 16404], [16374, 16375, 16376, 66, 16358, 16359, 67, 85, 16434, 16433, 16406, 16405, 107, 16432], [85, 108, 16407, 16408, 16409, 16410, 86, 16377, 68, 16360, 55, 16348, 44, 31, 19, 9, 16309, 4, 16303, 1], [1344, 17721]]\n"
       ]
      },
      {
       "name": "stdout",
       "output_type": "stream",
       "stream": "stdout",
       "text": [
        "ipdb> q\n"
       ]
      }
     ],
     "prompt_number": 4
    },
    {
     "cell_type": "code",
     "collapsed": false,
     "input": [
      "plt.imshow(job.externally_sized_mask)"
     ],
     "language": "python",
     "metadata": {},
     "outputs": [
      {
       "metadata": {},
       "output_type": "pyout",
       "prompt_number": 5,
       "text": [
        "<matplotlib.image.AxesImage at 0x113f338d0>"
       ]
      },
      {
       "metadata": {},
       "output_type": "display_data",
       "png": "[encoded data removed]",
       "text": [
        "<matplotlib.figure.Figure at 0x104598240>"
       ]
      }
     ],
     "prompt_number": 5
    },
    {
     "cell_type": "code",
     "collapsed": false,
     "input": [],
     "language": "python",
     "metadata": {},
     "outputs": []
    }
   ],
   "metadata": {}
  }
 ]
}