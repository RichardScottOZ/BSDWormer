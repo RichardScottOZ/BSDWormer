{
 "metadata": {
  "name": "",
  "signature": "sha256:9ae9bcb88fffc98ba6f30aa3fca49d0fbdc100b39e056433efc03e0bdb0a4c42"
 },
 "nbformat": 3,
 "nbformat_minor": 0,
 "worksheets": [
  {
   "cells": [
    {
     "cell_type": "markdown",
     "metadata": {},
     "source": [
      "This was orginally cribbed from the doctest of wormer.py\n",
      "\n",
      "Originally modified to deal with an Upstate NY dataset (from Erin Camp's area) rather than the Surat Basin.\n",
      "\n",
      "Now working with more-or-less arbitrary input GDAL readable rasters..."
     ]
    },
    {
     "cell_type": "code",
     "collapsed": false,
     "input": [
      "%%javascript\n",
      "// change the mode of all current and future CodeMirror instances\n",
      "// This is a BLACK MAGIC convenience function for Frank to edit everything is something approximating emacs.\n",
      "// See https://nbviewer.jupyter.org/github/ivanov/scipy2014/blob/master/v%20in%20IPython.ipynb#ipython-vimception\n",
      "// for the original Vim version...\n",
      "function to(mode) {\n",
      "    var mode = mode || 'emacs'\n",
      "    // first let's apply emacs mode to all current cells\n",
      "    function to_mode(c) { return c.code_mirror.setOption('keyMap', mode);};\n",
      "    IPython.notebook.get_cells().map(to_mode);\n",
      "    // apply the mode to future cells created\n",
      "    IPython.Cell.options_default.cm_config.keyMap = mode;\n",
      "}\n",
      "\n",
      "require([\"/static/components/codemirror/keymap/emacs.js\"],\n",
      "     function (emacs) { \n",
      "         to('emacs'); \n",
      "         console.log('emacs.js loaded'); \n",
      "     });"
     ],
     "language": "python",
     "metadata": {},
     "outputs": [
      {
       "javascript": [
        "// change the mode of all current and future CodeMirror instances\n",
        "// This is a BLACK MAGIC convenience function for Frank to edit everything is something approximating emacs.\n",
        "// See https://nbviewer.jupyter.org/github/ivanov/scipy2014/blob/master/v%20in%20IPython.ipynb#ipython-vimception\n",
        "// for the original Vim version...\n",
        "function to(mode) {\n",
        "    var mode = mode || 'emacs'\n",
        "    // first let's apply emacs mode to all current cells\n",
        "    function to_mode(c) { return c.code_mirror.setOption('keyMap', mode);};\n",
        "    IPython.notebook.get_cells().map(to_mode);\n",
        "    // apply the mode to future cells created\n",
        "    IPython.Cell.options_default.cm_config.keyMap = mode;\n",
        "}\n",
        "\n",
        "require([\"/static/components/codemirror/keymap/emacs.js\"],\n",
        "     function (emacs) { \n",
        "         to('emacs'); \n",
        "         console.log('emacs.js loaded'); \n",
        "     });"
       ],
       "metadata": {},
       "output_type": "display_data",
       "text": [
        "<IPython.core.display.Javascript at 0x107fa6b70>"
       ]
      }
     ],
     "prompt_number": 1
    },
    {
     "cell_type": "code",
     "collapsed": false,
     "input": [
      "#%gui wx\n",
      "#%matplotlib osx\n",
      "%matplotlib inline\n",
      "import numpy as np\n",
      "#import numpy.ma as ma\n",
      "#from osgeo import gdalnumeric\n",
      "#from osgeo import gdal\n",
      "#from osgeo import gdalconst\n",
      "from matplotlib import pyplot as plt\n",
      "import os.path\n",
      "#import FourierDomainGrid as GRID\n",
      "#import FourierDomainOps as FDO\n",
      "#from Utility import isclose, viewRaster, writeVtkImage, writeVtkWorms, GetExtent, ReprojectCoords\n",
      "import wormer as w\n",
      "#import networkx as nx\n",
      "#from scipy import spatial\n",
      "from WriteWormsToPostGIS import PostGISWriter as PGW\n",
      "#from geometry import GeoTransformToGCPs,MapToPixel\n",
      "import sys"
     ],
     "language": "python",
     "metadata": {},
     "outputs": [],
     "prompt_number": 2
    },
    {
     "cell_type": "code",
     "collapsed": false,
     "input": [
      "job = w.Wormer()\n",
      "filename = os.path.abspath('../test_data/AppBasinGPFA/AppBasinMergedBGA2500.ers')\n",
      "job.importGdalRaster(filename)\n",
      "job.importExternallyPaddedRaster('../test_data/AppBasinGPFA/AppBasinMergedBGA2500Padded.ers')\n",
      "#raw_input()\n",
      "#job.padded_grid = job.base_grid\n",
      "#nodata = -65.\n",
      "#foo.base_grid = np.where(foo.base_grid < nodata,nodata,foo.base_grid)\n",
      "#job.buildPaddedRaster((512,1024))\n",
      "#job._georeferencePaddedGrid()\n",
      "# HACK! We already have a padded PSG image from Oasis Montaj.\n",
      "#job.padded_geotransform = job.geomat\n",
      "pgw = PGW(srid=32618,db='postgresql://frank@localhost/frank')\n",
      "for dz in range(1,11):\n",
      "    #if dz == 0:\n",
      "    #    dz = 0.001\n",
      "    dzm = -dz*job.dy\n",
      "    job.wormLevelAsPoints(dz=dzm)\n",
      "    job.buildWormSegs(dz=dz,clipped=True,nodata_in_worm_image=-100.,from_image=False)\n",
      "    job.buildLevelForVTK(dz=dz)\n",
      "    #pgw.addWormLayer(job,dz)\n",
      "    #pgw.addWormPoints(job,dz)\n",
      "    pgw.addWormsAtHeightToDB(job,dz,srid=32618)\n",
      "# This thing does some SRID postprocessing on the bloody PostGIS database. \n",
      "# Why? Because I couldn't figure out any other way to make it work with geoalchemy2...\n",
      "pgw.cleanUpDatabase()\n",
      "#writeVtkWorms('/Users/frank/Documents/Src/Git Stuff/BSDWormer/test_data/AppBasinGPFA/AppBasinMergedBGAPadded',\n",
      "#              job.all_points,\n",
      "#              job.all_lines,\n",
      "#              job.all_vals)\n"
     ],
     "language": "python",
     "metadata": {},
     "outputs": [
      {
       "output_type": "stream",
       "stream": "stderr",
       "text": [
        "/Users/frank/Documents/Src/Git Stuff/BSDWormer/src/FourierDomainOps.py:272: FutureWarning: comparison to `None` will result in an elementwise object comparison in the future.\n",
        "  if self.F_dxOp == None:\n",
        "/Users/frank/Documents/Src/Git Stuff/BSDWormer/src/FourierDomainOps.py:274: FutureWarning: comparison to `None` will result in an elementwise object comparison in the future.\n",
        "  if self.F_dyOp == None:\n",
        "/Users/frank/Documents/Src/Git Stuff/BSDWormer/src/FourierDomainOps.py:393: FutureWarning: comparison to `None` will result in an elementwise object comparison in the future.\n",
        "  if val_img != None:\n"
       ]
      },
      {
       "output_type": "stream",
       "stream": "stderr",
       "text": [
        "/Users/frank/Documents/Src/Git Stuff/BSDWormer/src/FourierDomainOps.py:404: FutureWarning: comparison to `None` will result in an elementwise object comparison in the future.\n",
        "  if val_img != None:\n",
        "/Users/frank/Documents/Src/Git Stuff/BSDWormer/src/FourierDomainOps.py:410: FutureWarning: comparison to `None` will result in an elementwise object comparison in the future.\n",
        "  if val_img == None:\n"
       ]
      }
     ],
     "prompt_number": 3
    },
    {
     "cell_type": "code",
     "collapsed": false,
     "input": [
      "plt.imshow(job.externally_sized_mask)"
     ],
     "language": "python",
     "metadata": {},
     "outputs": [
      {
       "metadata": {},
       "output_type": "pyout",
       "prompt_number": 16,
       "text": [
        "<matplotlib.image.AxesImage at 0x10e3462b0>"
       ]
      },
      {
       "metadata": {},
       "output_type": "display_data",
       "png": "[encoded data removed]",
       "text": [
        "<matplotlib.figure.Figure at 0x10c3844e0>"
       ]
      }
     ],
     "prompt_number": 16
    },
    {
     "cell_type": "code",
     "collapsed": false,
     "input": [],
     "language": "python",
     "metadata": {},
     "outputs": []
    }
   ],
   "metadata": {}
  }
 ]
}