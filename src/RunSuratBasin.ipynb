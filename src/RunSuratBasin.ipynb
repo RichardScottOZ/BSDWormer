{
 "metadata": {
  "name": "",
  "signature": "sha256:068183eca7633692a4f60c9de9c60e9939f4724eaa265e3e10915d32ae72ae08"
 },
 "nbformat": 3,
 "nbformat_minor": 0,
 "worksheets": [
  {
   "cells": [
    {
     "cell_type": "markdown",
     "metadata": {},
     "source": [
      "This was orginally cribbed from the doctest of wormer.py\n",
      "\n",
      "Originally modified to deal with an Upstate NY dataset (from Erin Camp's area) rather than the Surat Basin.\n",
      "\n",
      "Now working with more-or-less arbitrary input GDAL readable rasters..."
     ]
    },
    {
     "cell_type": "code",
     "collapsed": false,
     "input": [
      "%%javascript\n",
      "// change the mode of all current and future CodeMirror instances\n",
      "// This is a BLACK MAGIC convenience function for Frank to edit everything is something approximating emacs.\n",
      "// See https://nbviewer.jupyter.org/github/ivanov/scipy2014/blob/master/v%20in%20IPython.ipynb#ipython-vimception\n",
      "// for the original Vim version...\n",
      "function to(mode) {\n",
      "    var mode = mode || 'emacs'\n",
      "    // first let's apply emacs mode to all current cells\n",
      "    function to_mode(c) { return c.code_mirror.setOption('keyMap', mode);};\n",
      "    IPython.notebook.get_cells().map(to_mode);\n",
      "    // apply the mode to future cells created\n",
      "    IPython.Cell.options_default.cm_config.keyMap = mode;\n",
      "}\n",
      "\n",
      "require([\"/static/components/codemirror/keymap/emacs.js\"],\n",
      "     function (emacs) { \n",
      "         to('emacs'); \n",
      "         console.log('emacs.js loaded'); \n",
      "     });"
     ],
     "language": "python",
     "metadata": {},
     "outputs": [
      {
       "javascript": [
        "// change the mode of all current and future CodeMirror instances\n",
        "// This is a BLACK MAGIC convenience function for Frank to edit everything is something approximating emacs.\n",
        "// See https://nbviewer.jupyter.org/github/ivanov/scipy2014/blob/master/v%20in%20IPython.ipynb#ipython-vimception\n",
        "// for the original Vim version...\n",
        "function to(mode) {\n",
        "    var mode = mode || 'emacs'\n",
        "    // first let's apply emacs mode to all current cells\n",
        "    function to_mode(c) { return c.code_mirror.setOption('keyMap', mode);};\n",
        "    IPython.notebook.get_cells().map(to_mode);\n",
        "    // apply the mode to future cells created\n",
        "    IPython.Cell.options_default.cm_config.keyMap = mode;\n",
        "}\n",
        "\n",
        "require([\"/static/components/codemirror/keymap/emacs.js\"],\n",
        "     function (emacs) { \n",
        "         to('emacs'); \n",
        "         console.log('emacs.js loaded'); \n",
        "     });"
       ],
       "metadata": {},
       "output_type": "display_data",
       "text": [
        "<IPython.core.display.Javascript at 0x107f8fac8>"
       ]
      }
     ],
     "prompt_number": 1
    },
    {
     "cell_type": "code",
     "collapsed": false,
     "input": [
      "#%gui wx\n",
      "#%matplotlib osx\n",
      "%matplotlib inline\n",
      "import sys\n",
      "#print(sys.path)\n",
      "import numpy as np\n",
      "import numpy.ma as ma\n",
      "from osgeo import gdalnumeric\n",
      "from osgeo import gdal\n",
      "from osgeo import gdalconst\n",
      "from matplotlib import pyplot as plt\n",
      "import os.path\n",
      "import FourierDomainGrid as GRID\n",
      "import FourierDomainOps as FDO\n",
      "from Utility import isclose, viewRaster, writeVtkImage, writeVtkWorms, GetExtent, ReprojectCoords\n",
      "import wormer as w\n",
      "import networkx as nx\n",
      "from scipy import spatial\n",
      "from WriteWormsToPostGIS import PostGISWriter as PGW\n"
     ],
     "language": "python",
     "metadata": {},
     "outputs": [],
     "prompt_number": 2
    },
    {
     "cell_type": "code",
     "collapsed": false,
     "input": [
      "job = w.Wormer()\n",
      "filename = os.path.abspath('../test_data/SuratBasin/surat_basin.ers')\n",
      "job.importGdalRaster(filename)\n",
      "#nodata = -65.\n",
      "#foo.base_grid = np.where(foo.base_grid < nodata,nodata,foo.base_grid)\n",
      "job.buildPaddedRaster((2048,1536))\n",
      "job._georeferencePaddedGrid()\n",
      "pgw = PGW(srid=4326)\n",
      "for dz in range(5,15):\n",
      "    dzm = -dz*job.dy\n",
      "    job.wormLevelAsImage(dz=dzm)\n",
      "    job.buildWormSegs(dz=dz,clipped=True,nodata_in_worm_image=-100.)\n",
      "    job.buildLevelForVTK(dz=dz)\n",
      "    pgw.addWormsAtHeightToDB(job,dz,srid=4326)\n",
      "\n",
      "#writeVtkWorms('../test_data/SuratBasin/SuratBasin',\n",
      "#              job.all_points,\n",
      "#              job.all_lines,\n",
      "#              job.all_vals)\n"
     ],
     "language": "python",
     "metadata": {},
     "outputs": [
      {
       "output_type": "stream",
       "stream": "stderr",
       "text": [
        "/Users/frank/Documents/Src/Git Stuff/BSDWormer/src/FourierDomainOps.py:265: FutureWarning: comparison to `None` will result in an elementwise object comparison in the future.\n",
        "  if self.F_dxOp == None:\n",
        "/Users/frank/Documents/Src/Git Stuff/BSDWormer/src/FourierDomainOps.py:267: FutureWarning: comparison to `None` will result in an elementwise object comparison in the future.\n",
        "  if self.F_dyOp == None:\n"
       ]
      }
     ],
     "prompt_number": 3
    },
    {
     "cell_type": "code",
     "collapsed": false,
     "input": [
      "writeVtkWorms('/Users/frank/Documents/Src/Git Stuff/BSDWormer/test_data/LOntario/LOntario',\n",
      "              foo.all_points,\n",
      "              foo.all_lines,\n",
      "              foo.all_vals)"
     ],
     "language": "python",
     "metadata": {},
     "outputs": [
      {
       "output_type": "stream",
       "stream": "stderr",
       "text": [
        "Scalars.__init__._get_lookup_table.warning:\n",
        "\tUsing lookup_table='default'\n"
       ]
      }
     ],
     "prompt_number": 8
    },
    {
     "cell_type": "code",
     "collapsed": false,
     "input": [
      "%debug"
     ],
     "language": "python",
     "metadata": {},
     "outputs": [
      {
       "output_type": "stream",
       "stream": "stdout",
       "text": [
        "> \u001b[0;32m/Users/frank/Documents/Src/Git Stuff/BSDWormer/src/wormer.py\u001b[0m(103)\u001b[0;36mbuildWormSegs\u001b[0;34m()\u001b[0m\n",
        "\u001b[0;32m    102 \u001b[0;31m            \u001b[0mworm_vals\u001b[0m \u001b[0;34m=\u001b[0m \u001b[0mnp\u001b[0m\u001b[0;34m.\u001b[0m\u001b[0mlog10\u001b[0m\u001b[0;34m(\u001b[0m\u001b[0mworm_vals\u001b[0m\u001b[0;34m)\u001b[0m\u001b[0;34m\u001b[0m\u001b[0m\n",
        "\u001b[0m\u001b[0;32m--> 103 \u001b[0;31m        \u001b[0mself\u001b[0m\u001b[0;34m.\u001b[0m\u001b[0mbuildGraph\u001b[0m\u001b[0;34m(\u001b[0m\u001b[0mworm_points\u001b[0m\u001b[0;34m,\u001b[0m\u001b[0mdz\u001b[0m\u001b[0;34m*\u001b[0m\u001b[0mworm_vals\u001b[0m\u001b[0;34m,\u001b[0m\u001b[0mgt\u001b[0m\u001b[0;34m)\u001b[0m\u001b[0;34m\u001b[0m\u001b[0m\n",
        "\u001b[0m\u001b[0;32m    104 \u001b[0;31m        \u001b[0mmst\u001b[0m \u001b[0;34m=\u001b[0m \u001b[0mnx\u001b[0m\u001b[0;34m.\u001b[0m\u001b[0mminimum_spanning_tree\u001b[0m\u001b[0;34m(\u001b[0m\u001b[0mself\u001b[0m\u001b[0;34m.\u001b[0m\u001b[0mG\u001b[0m\u001b[0;34m)\u001b[0m\u001b[0;34m\u001b[0m\u001b[0m\n",
        "\u001b[0m\n"
       ]
      },
      {
       "name": "stdout",
       "output_type": "stream",
       "stream": "stdout",
       "text": [
        "ipdb> len(worm_points)\n"
       ]
      },
      {
       "output_type": "stream",
       "stream": "stdout",
       "text": [
        "9672\n"
       ]
      },
      {
       "name": "stdout",
       "output_type": "stream",
       "stream": "stdout",
       "text": [
        "ipdb> len(worm_vals)\n"
       ]
      },
      {
       "output_type": "stream",
       "stream": "stdout",
       "text": [
        "9672\n"
       ]
      },
      {
       "name": "stdout",
       "output_type": "stream",
       "stream": "stdout",
       "text": [
        "ipdb> None in worm_vals\n"
       ]
      },
      {
       "output_type": "stream",
       "stream": "stderr",
       "text": [
        "/Users/frank/Documents/Src/Git Stuff/BSDWormer/src/wormer.py:1: FutureWarning: comparison to `None` will result in an elementwise object comparison in the future.\n",
        "  import numpy as np\n"
       ]
      },
      {
       "output_type": "stream",
       "stream": "stdout",
       "text": [
        "False\n"
       ]
      },
      {
       "name": "stdout",
       "output_type": "stream",
       "stream": "stdout",
       "text": [
        "ipdb> p dz\n"
       ]
      },
      {
       "output_type": "stream",
       "stream": "stdout",
       "text": [
        "None\n"
       ]
      },
      {
       "name": "stdout",
       "output_type": "stream",
       "stream": "stdout",
       "text": [
        "ipdb> quit\n"
       ]
      }
     ],
     "prompt_number": 4
    },
    {
     "cell_type": "code",
     "collapsed": true,
     "input": [
      "# Plot the worms in matplotlib for debugging the graph walking algorithms...\n",
      "fig = plt.figure()\n",
      "ax = fig.add_subplot(111, aspect='equal')\n",
      "for s in foo.segs:\n",
      "    if s == []:\n",
      "        continue\n",
      "    posn = foo.G.node[s[0][0]]['pos']\n",
      "    xs = [posn[1]]\n",
      "    ys = [posn[0]]\n",
      "    val = foo.G.node[s[0][0]]['val']\n",
      "    vs = [val]\n",
      "    for edge in s:\n",
      "        posn = foo.G.node[edge[1]]['pos']\n",
      "        yn,xn = posn\n",
      "        xs += [xn]\n",
      "        ys += [yn]\n",
      "        vs += [foo.G.node[edge[1]]['val']]\n",
      "    plt.plot(xs,ys)\n",
      "#plt.imshow(lbls)\n",
      "# The plot without this call is flipped N for S. Bloody image coordinates!\n",
      "plt.gca().invert_yaxis()\n",
      "#fig.show()\n"
     ],
     "language": "python",
     "metadata": {},
     "outputs": [
      {
       "metadata": {},
       "output_type": "display_data",
       "png": "[encoded data removed]",
       "text": [
        "<matplotlib.figure.Figure at 0x110bb6c18>"
       ]
      }
     ],
     "prompt_number": 4
    },
    {
     "cell_type": "code",
     "collapsed": false,
     "input": [],
     "language": "python",
     "metadata": {},
     "outputs": []
    },
    {
     "cell_type": "code",
     "collapsed": false,
     "input": [
      "foo.ds.GetProjection()"
     ],
     "language": "python",
     "metadata": {},
     "outputs": [
      {
       "metadata": {},
       "output_type": "pyout",
       "prompt_number": 6,
       "text": [
        "'PROJCS[\"NUTM18\",GEOGCS[\"WGS 84\",DATUM[\"WGS_1984\",SPHEROID[\"WGS 84\",6378137,298.257223563,AUTHORITY[\"EPSG\",\"7030\"]],TOWGS84[0,0,0,0,0,0,0],AUTHORITY[\"EPSG\",\"6326\"]],PRIMEM[\"Greenwich\",0,AUTHORITY[\"EPSG\",\"8901\"]],UNIT[\"degree\",0.0174532925199433,AUTHORITY[\"EPSG\",\"9108\"]],AXIS[\"Lat\",NORTH],AXIS[\"Long\",EAST],AUTHORITY[\"EPSG\",\"4326\"]],PROJECTION[\"Transverse_Mercator\"],PARAMETER[\"latitude_of_origin\",0],PARAMETER[\"central_meridian\",-75],PARAMETER[\"scale_factor\",0.9996],PARAMETER[\"false_easting\",500000],PARAMETER[\"false_northing\",0],UNIT[\"Meter\",1]]'"
       ]
      }
     ],
     "prompt_number": 6
    },
    {
     "cell_type": "code",
     "collapsed": false,
     "input": [
      "print(foo.geomat)\n",
      "GetExtent(foo.geomat,512,512)"
     ],
     "language": "python",
     "metadata": {},
     "outputs": [
      {
       "output_type": "stream",
       "stream": "stdout",
       "text": [
        "(-12802.1699999997, 1066.84, 0.0, 5125094.96, 0.0, -1066.84)\n",
        "-12802.1699999997 5125094.96\n",
        "-12802.1699999997 4578872.88\n",
        "533419.9100000003 4578872.88\n",
        "533419.9100000003 5125094.96\n"
       ]
      },
      {
       "metadata": {},
       "output_type": "pyout",
       "prompt_number": 8,
       "text": [
        "[[-12802.1699999997, 5125094.96],\n",
        " [-12802.1699999997, 4578872.88],\n",
        " [533419.9100000003, 4578872.88],\n",
        " [533419.9100000003, 5125094.96]]"
       ]
      }
     ],
     "prompt_number": 8
    },
    {
     "cell_type": "code",
     "collapsed": false,
     "input": [
      "print(worm_segments[20])\n",
      "print(ReprojectCoords(worm_segments[20],foo.ds.GetProjection(),foo.ds.GetProjection()))"
     ],
     "language": "python",
     "metadata": {},
     "outputs": []
    },
    {
     "cell_type": "code",
     "collapsed": false,
     "input": [
      "\"\"\"\n",
      "Header from the Euler Pole data file...\n",
      "['/ ------------------------------------------------------------------------------\\n',\n",
      " '/ XYZ EXPORT [07/29/2014]\\n',\n",
      " '/ DATABASE   [.\\\\luis_4euler.gdb]\\n',\n",
      " '/ ------------------------------------------------------------------------------\\n',\n",
      " '/\\n',\n",
      " '/         Y      Depth  Backgrnd    dXY     dZ  Mask  WndSize    X_Euler   X_Offset    Y_Euler   Y_Offset \\n',\n",
      " '/========== ========== ========= ====== ====== ===== ======== ========== ========== ========== ========== \\n',\n",
      " '/\\n',\n",
      " 'Line Solutions\\n']\n",
      "\"\"\"\n",
      "\n",
      "f = open('/Users/frank/Desktop/GravMag/2014 Proposal/luis_ontario_euler.XYZ','rU')\n",
      "buf = f.readlines()\n",
      "f.close()\n",
      "for ln in buf[9:]:\n",
      "    flds = ln.split()\n",
      "    print(\"z = %s, x = %s, y = %s\"%(flds[1], flds[7], flds[9]))"
     ],
     "language": "python",
     "metadata": {},
     "outputs": []
    },
    {
     "cell_type": "code",
     "collapsed": false,
     "input": [],
     "language": "python",
     "metadata": {},
     "outputs": []
    }
   ],
   "metadata": {}
  }
 ]
}